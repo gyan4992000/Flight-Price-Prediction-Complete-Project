{
 "cells": [
  {
   "cell_type": "markdown",
   "id": "aa8589d8",
   "metadata": {},
   "source": [
    "# Flight Ticket Price Prediction"
   ]
  },
  {
   "cell_type": "markdown",
   "id": "94b0fa5a",
   "metadata": {},
   "source": [
    "## Problem Statement:"
   ]
  },
  {
   "cell_type": "markdown",
   "id": "c53a5a13",
   "metadata": {},
   "source": [
    "Anyone who has booked a flight ticket knows how unexpectedly the prices vary. The cheapest \n",
    "available ticket on a given flight gets more and less expensive over time. This usually happens as \n",
    "an attempt to maximize revenue based on -\n",
    "1. Time of purchase patterns (making sure last-minute purchases are expensive)\n",
    "2. Keeping the flight as full as they want it (raising prices on a flight which is filling up in order \n",
    "to reduce sales and hold back inventory for those expensive last-minute expensive \n",
    "purchases)\n",
    "\n",
    "\n",
    "**Dataset**\n",
    "\n",
    "**Model Building Phase**\n",
    "After collecting/scraping the data, we have around 1948 rows and 9 columns. We need to build a machine learning model. Before model building, we will be doing data pre-processing steps. We will try different models with different hyper parameters and select the best model.\n",
    "\n",
    "Size of training dataset: 1948 records"
   ]
  },
  {
   "cell_type": "markdown",
   "id": "7c759035",
   "metadata": {},
   "source": [
    "## Features"
   ]
  },
  {
   "cell_type": "markdown",
   "id": "c2e2b5c8",
   "metadata": {},
   "source": [
    "Airline: The name of the airline.\n",
    "\n",
    "Source: The source from which the service begins.\n",
    "\n",
    "Destination: The destination where the service ends.\n",
    "\n",
    "Dep_Time: The time when the journey starts from the source.\n",
    "\n",
    "Arrival_Time: Time of arrival at the destination.\n",
    "\n",
    "Duration: Total duration of the flight.\n",
    "\n",
    "Total_Stops: Total stops between the source and destination.\n",
    "\n",
    "Additional_Info: Additional information about meal on the flight\n",
    "\n",
    "Price: The price of the ticket"
   ]
  },
  {
   "cell_type": "markdown",
   "id": "85be3ac8",
   "metadata": {},
   "source": [
    "## Importing important libraries"
   ]
  },
  {
   "cell_type": "code",
   "execution_count": 45,
   "id": "fe2219e3",
   "metadata": {},
   "outputs": [],
   "source": [
    "import pandas as pd\n",
    "import numpy as np\n",
    "import seaborn as sns\n",
    "import matplotlib.pyplot as plt\n",
    "from sklearn.model_selection import train_test_split, RandomizedSearchCV, cross_val_score\n",
    "from sklearn.preprocessing import StandardScaler\n",
    "from sklearn.linear_model import LinearRegression, Lasso,Ridge\n",
    "from sklearn.ensemble import RandomForestRegressor, GradientBoostingRegressor, AdaBoostRegressor\n",
    "from sklearn.tree import DecisionTreeRegressor\n",
    "from sklearn.neighbors import KNeighborsRegressor\n",
    "from sklearn.metrics import r2_score, mean_squared_error\n",
    "\n",
    "import warnings\n",
    "warnings.filterwarnings(\"ignore\")"
   ]
  },
  {
   "cell_type": "markdown",
   "id": "7d433f9d",
   "metadata": {},
   "source": [
    "## Loading The Dataset"
   ]
  },
  {
   "cell_type": "code",
   "execution_count": 46,
   "id": "9a99f84e",
   "metadata": {},
   "outputs": [
    {
     "data": {
      "text/html": [
       "<div>\n",
       "<style scoped>\n",
       "    .dataframe tbody tr th:only-of-type {\n",
       "        vertical-align: middle;\n",
       "    }\n",
       "\n",
       "    .dataframe tbody tr th {\n",
       "        vertical-align: top;\n",
       "    }\n",
       "\n",
       "    .dataframe thead th {\n",
       "        text-align: right;\n",
       "    }\n",
       "</style>\n",
       "<table border=\"1\" class=\"dataframe\">\n",
       "  <thead>\n",
       "    <tr style=\"text-align: right;\">\n",
       "      <th></th>\n",
       "      <th>Unnamed: 0</th>\n",
       "      <th>Airline</th>\n",
       "      <th>Source</th>\n",
       "      <th>Destination</th>\n",
       "      <th>Dep_Time</th>\n",
       "      <th>Arrival_Time</th>\n",
       "      <th>Duration</th>\n",
       "      <th>Total_Stops</th>\n",
       "      <th>Additional_Info</th>\n",
       "      <th>Price (in ₹)</th>\n",
       "    </tr>\n",
       "  </thead>\n",
       "  <tbody>\n",
       "    <tr>\n",
       "      <th>0</th>\n",
       "      <td>0</td>\n",
       "      <td>Air India</td>\n",
       "      <td>New Delhi</td>\n",
       "      <td>Mumbai</td>\n",
       "      <td>07:00</td>\n",
       "      <td>09:05</td>\n",
       "      <td>2h 05m</td>\n",
       "      <td>Non Stop</td>\n",
       "      <td>Free Meal</td>\n",
       "      <td>4,065</td>\n",
       "    </tr>\n",
       "    <tr>\n",
       "      <th>1</th>\n",
       "      <td>1</td>\n",
       "      <td>Air India</td>\n",
       "      <td>New Delhi</td>\n",
       "      <td>Mumbai</td>\n",
       "      <td>08:00</td>\n",
       "      <td>10:10</td>\n",
       "      <td>2h 10m</td>\n",
       "      <td>Non Stop</td>\n",
       "      <td>Free Meal</td>\n",
       "      <td>4,065</td>\n",
       "    </tr>\n",
       "    <tr>\n",
       "      <th>2</th>\n",
       "      <td>2</td>\n",
       "      <td>Air India</td>\n",
       "      <td>New Delhi</td>\n",
       "      <td>Mumbai</td>\n",
       "      <td>09:00</td>\n",
       "      <td>11:15</td>\n",
       "      <td>2h 15m</td>\n",
       "      <td>Non Stop</td>\n",
       "      <td>Free Meal</td>\n",
       "      <td>4,065</td>\n",
       "    </tr>\n",
       "    <tr>\n",
       "      <th>3</th>\n",
       "      <td>3</td>\n",
       "      <td>Air India</td>\n",
       "      <td>New Delhi</td>\n",
       "      <td>Mumbai</td>\n",
       "      <td>14:00</td>\n",
       "      <td>16:15</td>\n",
       "      <td>2h 15m</td>\n",
       "      <td>Non Stop</td>\n",
       "      <td>Free Meal</td>\n",
       "      <td>4,065</td>\n",
       "    </tr>\n",
       "    <tr>\n",
       "      <th>4</th>\n",
       "      <td>4</td>\n",
       "      <td>Air India</td>\n",
       "      <td>New Delhi</td>\n",
       "      <td>Mumbai</td>\n",
       "      <td>21:15</td>\n",
       "      <td>23:35</td>\n",
       "      <td>2h 20m</td>\n",
       "      <td>Non Stop</td>\n",
       "      <td>Free Meal</td>\n",
       "      <td>4,065</td>\n",
       "    </tr>\n",
       "    <tr>\n",
       "      <th>...</th>\n",
       "      <td>...</td>\n",
       "      <td>...</td>\n",
       "      <td>...</td>\n",
       "      <td>...</td>\n",
       "      <td>...</td>\n",
       "      <td>...</td>\n",
       "      <td>...</td>\n",
       "      <td>...</td>\n",
       "      <td>...</td>\n",
       "      <td>...</td>\n",
       "    </tr>\n",
       "    <tr>\n",
       "      <th>1943</th>\n",
       "      <td>1943</td>\n",
       "      <td>IndiGo</td>\n",
       "      <td>Kolkata</td>\n",
       "      <td>Bagdogra</td>\n",
       "      <td>12:30</td>\n",
       "      <td>13:45</td>\n",
       "      <td>1h 15m</td>\n",
       "      <td>Non Stop</td>\n",
       "      <td>No info</td>\n",
       "      <td>5,242</td>\n",
       "    </tr>\n",
       "    <tr>\n",
       "      <th>1944</th>\n",
       "      <td>1944</td>\n",
       "      <td>Go First</td>\n",
       "      <td>Kolkata</td>\n",
       "      <td>Pune</td>\n",
       "      <td>10:20</td>\n",
       "      <td>13:05</td>\n",
       "      <td>2h 45m</td>\n",
       "      <td>Non Stop</td>\n",
       "      <td>No info</td>\n",
       "      <td>4,975</td>\n",
       "    </tr>\n",
       "    <tr>\n",
       "      <th>1945</th>\n",
       "      <td>1945</td>\n",
       "      <td>IndiGo</td>\n",
       "      <td>Kolkata</td>\n",
       "      <td>Pune</td>\n",
       "      <td>21:05</td>\n",
       "      <td>23:40</td>\n",
       "      <td>2h 35m</td>\n",
       "      <td>Non Stop</td>\n",
       "      <td>No info</td>\n",
       "      <td>4,976</td>\n",
       "    </tr>\n",
       "    <tr>\n",
       "      <th>1946</th>\n",
       "      <td>1946</td>\n",
       "      <td>IndiGo</td>\n",
       "      <td>Kolkata</td>\n",
       "      <td>Pune</td>\n",
       "      <td>09:15</td>\n",
       "      <td>13:10</td>\n",
       "      <td>3h 55m</td>\n",
       "      <td>1 Stop</td>\n",
       "      <td>No info</td>\n",
       "      <td>5,720</td>\n",
       "    </tr>\n",
       "    <tr>\n",
       "      <th>1947</th>\n",
       "      <td>1947</td>\n",
       "      <td>Go First</td>\n",
       "      <td>Kolkata</td>\n",
       "      <td>Pune</td>\n",
       "      <td>09:30</td>\n",
       "      <td>19:05</td>\n",
       "      <td>9h 35m</td>\n",
       "      <td>1 Stop</td>\n",
       "      <td>No info</td>\n",
       "      <td>6,882</td>\n",
       "    </tr>\n",
       "  </tbody>\n",
       "</table>\n",
       "<p>1948 rows × 10 columns</p>\n",
       "</div>"
      ],
      "text/plain": [
       "      Unnamed: 0    Airline     Source Destination Dep_Time Arrival_Time  \\\n",
       "0              0  Air India  New Delhi      Mumbai    07:00        09:05   \n",
       "1              1  Air India  New Delhi      Mumbai    08:00        10:10   \n",
       "2              2  Air India  New Delhi      Mumbai    09:00        11:15   \n",
       "3              3  Air India  New Delhi      Mumbai    14:00        16:15   \n",
       "4              4  Air India  New Delhi      Mumbai    21:15        23:35   \n",
       "...          ...        ...        ...         ...      ...          ...   \n",
       "1943        1943     IndiGo    Kolkata    Bagdogra    12:30        13:45   \n",
       "1944        1944   Go First    Kolkata        Pune    10:20        13:05   \n",
       "1945        1945     IndiGo    Kolkata        Pune    21:05        23:40   \n",
       "1946        1946     IndiGo    Kolkata        Pune    09:15        13:10   \n",
       "1947        1947   Go First    Kolkata        Pune    09:30        19:05   \n",
       "\n",
       "     Duration Total_Stops Additional_Info Price (in ₹)  \n",
       "0      2h 05m    Non Stop       Free Meal        4,065  \n",
       "1      2h 10m    Non Stop       Free Meal        4,065  \n",
       "2      2h 15m    Non Stop       Free Meal        4,065  \n",
       "3      2h 15m    Non Stop       Free Meal        4,065  \n",
       "4      2h 20m    Non Stop       Free Meal        4,065  \n",
       "...       ...         ...             ...          ...  \n",
       "1943   1h 15m    Non Stop         No info        5,242  \n",
       "1944   2h 45m    Non Stop         No info        4,975  \n",
       "1945   2h 35m    Non Stop         No info        4,976  \n",
       "1946   3h 55m      1 Stop         No info        5,720  \n",
       "1947   9h 35m      1 Stop         No info        6,882  \n",
       "\n",
       "[1948 rows x 10 columns]"
      ]
     },
     "execution_count": 46,
     "metadata": {},
     "output_type": "execute_result"
    }
   ],
   "source": [
    "flight_df = pd.read_csv(\"Flight price Dataset.csv\")\n",
    "flight_df"
   ]
  },
  {
   "cell_type": "code",
   "execution_count": 47,
   "id": "f769aa34",
   "metadata": {},
   "outputs": [
    {
     "data": {
      "text/html": [
       "<div>\n",
       "<style scoped>\n",
       "    .dataframe tbody tr th:only-of-type {\n",
       "        vertical-align: middle;\n",
       "    }\n",
       "\n",
       "    .dataframe tbody tr th {\n",
       "        vertical-align: top;\n",
       "    }\n",
       "\n",
       "    .dataframe thead th {\n",
       "        text-align: right;\n",
       "    }\n",
       "</style>\n",
       "<table border=\"1\" class=\"dataframe\">\n",
       "  <thead>\n",
       "    <tr style=\"text-align: right;\">\n",
       "      <th></th>\n",
       "      <th>Airline</th>\n",
       "      <th>Source</th>\n",
       "      <th>Destination</th>\n",
       "      <th>Dep_Time</th>\n",
       "      <th>Arrival_Time</th>\n",
       "      <th>Duration</th>\n",
       "      <th>Total_Stops</th>\n",
       "      <th>Additional_Info</th>\n",
       "      <th>Price (in ₹)</th>\n",
       "    </tr>\n",
       "  </thead>\n",
       "  <tbody>\n",
       "    <tr>\n",
       "      <th>0</th>\n",
       "      <td>Air India</td>\n",
       "      <td>New Delhi</td>\n",
       "      <td>Mumbai</td>\n",
       "      <td>07:00</td>\n",
       "      <td>09:05</td>\n",
       "      <td>2h 05m</td>\n",
       "      <td>Non Stop</td>\n",
       "      <td>Free Meal</td>\n",
       "      <td>4,065</td>\n",
       "    </tr>\n",
       "    <tr>\n",
       "      <th>1</th>\n",
       "      <td>Air India</td>\n",
       "      <td>New Delhi</td>\n",
       "      <td>Mumbai</td>\n",
       "      <td>08:00</td>\n",
       "      <td>10:10</td>\n",
       "      <td>2h 10m</td>\n",
       "      <td>Non Stop</td>\n",
       "      <td>Free Meal</td>\n",
       "      <td>4,065</td>\n",
       "    </tr>\n",
       "    <tr>\n",
       "      <th>2</th>\n",
       "      <td>Air India</td>\n",
       "      <td>New Delhi</td>\n",
       "      <td>Mumbai</td>\n",
       "      <td>09:00</td>\n",
       "      <td>11:15</td>\n",
       "      <td>2h 15m</td>\n",
       "      <td>Non Stop</td>\n",
       "      <td>Free Meal</td>\n",
       "      <td>4,065</td>\n",
       "    </tr>\n",
       "    <tr>\n",
       "      <th>3</th>\n",
       "      <td>Air India</td>\n",
       "      <td>New Delhi</td>\n",
       "      <td>Mumbai</td>\n",
       "      <td>14:00</td>\n",
       "      <td>16:15</td>\n",
       "      <td>2h 15m</td>\n",
       "      <td>Non Stop</td>\n",
       "      <td>Free Meal</td>\n",
       "      <td>4,065</td>\n",
       "    </tr>\n",
       "    <tr>\n",
       "      <th>4</th>\n",
       "      <td>Air India</td>\n",
       "      <td>New Delhi</td>\n",
       "      <td>Mumbai</td>\n",
       "      <td>21:15</td>\n",
       "      <td>23:35</td>\n",
       "      <td>2h 20m</td>\n",
       "      <td>Non Stop</td>\n",
       "      <td>Free Meal</td>\n",
       "      <td>4,065</td>\n",
       "    </tr>\n",
       "    <tr>\n",
       "      <th>...</th>\n",
       "      <td>...</td>\n",
       "      <td>...</td>\n",
       "      <td>...</td>\n",
       "      <td>...</td>\n",
       "      <td>...</td>\n",
       "      <td>...</td>\n",
       "      <td>...</td>\n",
       "      <td>...</td>\n",
       "      <td>...</td>\n",
       "    </tr>\n",
       "    <tr>\n",
       "      <th>1943</th>\n",
       "      <td>IndiGo</td>\n",
       "      <td>Kolkata</td>\n",
       "      <td>Bagdogra</td>\n",
       "      <td>12:30</td>\n",
       "      <td>13:45</td>\n",
       "      <td>1h 15m</td>\n",
       "      <td>Non Stop</td>\n",
       "      <td>No info</td>\n",
       "      <td>5,242</td>\n",
       "    </tr>\n",
       "    <tr>\n",
       "      <th>1944</th>\n",
       "      <td>Go First</td>\n",
       "      <td>Kolkata</td>\n",
       "      <td>Pune</td>\n",
       "      <td>10:20</td>\n",
       "      <td>13:05</td>\n",
       "      <td>2h 45m</td>\n",
       "      <td>Non Stop</td>\n",
       "      <td>No info</td>\n",
       "      <td>4,975</td>\n",
       "    </tr>\n",
       "    <tr>\n",
       "      <th>1945</th>\n",
       "      <td>IndiGo</td>\n",
       "      <td>Kolkata</td>\n",
       "      <td>Pune</td>\n",
       "      <td>21:05</td>\n",
       "      <td>23:40</td>\n",
       "      <td>2h 35m</td>\n",
       "      <td>Non Stop</td>\n",
       "      <td>No info</td>\n",
       "      <td>4,976</td>\n",
       "    </tr>\n",
       "    <tr>\n",
       "      <th>1946</th>\n",
       "      <td>IndiGo</td>\n",
       "      <td>Kolkata</td>\n",
       "      <td>Pune</td>\n",
       "      <td>09:15</td>\n",
       "      <td>13:10</td>\n",
       "      <td>3h 55m</td>\n",
       "      <td>1 Stop</td>\n",
       "      <td>No info</td>\n",
       "      <td>5,720</td>\n",
       "    </tr>\n",
       "    <tr>\n",
       "      <th>1947</th>\n",
       "      <td>Go First</td>\n",
       "      <td>Kolkata</td>\n",
       "      <td>Pune</td>\n",
       "      <td>09:30</td>\n",
       "      <td>19:05</td>\n",
       "      <td>9h 35m</td>\n",
       "      <td>1 Stop</td>\n",
       "      <td>No info</td>\n",
       "      <td>6,882</td>\n",
       "    </tr>\n",
       "  </tbody>\n",
       "</table>\n",
       "<p>1948 rows × 9 columns</p>\n",
       "</div>"
      ],
      "text/plain": [
       "        Airline     Source Destination Dep_Time Arrival_Time Duration  \\\n",
       "0     Air India  New Delhi      Mumbai    07:00        09:05   2h 05m   \n",
       "1     Air India  New Delhi      Mumbai    08:00        10:10   2h 10m   \n",
       "2     Air India  New Delhi      Mumbai    09:00        11:15   2h 15m   \n",
       "3     Air India  New Delhi      Mumbai    14:00        16:15   2h 15m   \n",
       "4     Air India  New Delhi      Mumbai    21:15        23:35   2h 20m   \n",
       "...         ...        ...         ...      ...          ...      ...   \n",
       "1943     IndiGo    Kolkata    Bagdogra    12:30        13:45   1h 15m   \n",
       "1944   Go First    Kolkata        Pune    10:20        13:05   2h 45m   \n",
       "1945     IndiGo    Kolkata        Pune    21:05        23:40   2h 35m   \n",
       "1946     IndiGo    Kolkata        Pune    09:15        13:10   3h 55m   \n",
       "1947   Go First    Kolkata        Pune    09:30        19:05   9h 35m   \n",
       "\n",
       "     Total_Stops Additional_Info Price (in ₹)  \n",
       "0       Non Stop       Free Meal        4,065  \n",
       "1       Non Stop       Free Meal        4,065  \n",
       "2       Non Stop       Free Meal        4,065  \n",
       "3       Non Stop       Free Meal        4,065  \n",
       "4       Non Stop       Free Meal        4,065  \n",
       "...          ...             ...          ...  \n",
       "1943    Non Stop         No info        5,242  \n",
       "1944    Non Stop         No info        4,975  \n",
       "1945    Non Stop         No info        4,976  \n",
       "1946      1 Stop         No info        5,720  \n",
       "1947      1 Stop         No info        6,882  \n",
       "\n",
       "[1948 rows x 9 columns]"
      ]
     },
     "execution_count": 47,
     "metadata": {},
     "output_type": "execute_result"
    }
   ],
   "source": [
    "# Dropping the unwanted column 'Unnamed'\n",
    "flight_df.drop(\"Unnamed: 0\",axis =1,inplace = True)\n",
    "flight_df"
   ]
  },
  {
   "cell_type": "code",
   "execution_count": 48,
   "id": "ebba227e",
   "metadata": {},
   "outputs": [
    {
     "data": {
      "text/html": [
       "<div>\n",
       "<style scoped>\n",
       "    .dataframe tbody tr th:only-of-type {\n",
       "        vertical-align: middle;\n",
       "    }\n",
       "\n",
       "    .dataframe tbody tr th {\n",
       "        vertical-align: top;\n",
       "    }\n",
       "\n",
       "    .dataframe thead th {\n",
       "        text-align: right;\n",
       "    }\n",
       "</style>\n",
       "<table border=\"1\" class=\"dataframe\">\n",
       "  <thead>\n",
       "    <tr style=\"text-align: right;\">\n",
       "      <th></th>\n",
       "      <th>Airline</th>\n",
       "      <th>Source</th>\n",
       "      <th>Destination</th>\n",
       "      <th>Dep_Time</th>\n",
       "      <th>Arrival_Time</th>\n",
       "      <th>Duration</th>\n",
       "      <th>Total_Stops</th>\n",
       "      <th>Additional_Info</th>\n",
       "      <th>Price (in ₹)</th>\n",
       "    </tr>\n",
       "  </thead>\n",
       "  <tbody>\n",
       "    <tr>\n",
       "      <th>0</th>\n",
       "      <td>Air India</td>\n",
       "      <td>New Delhi</td>\n",
       "      <td>Mumbai</td>\n",
       "      <td>07:00</td>\n",
       "      <td>09:05</td>\n",
       "      <td>2h 05m</td>\n",
       "      <td>Non Stop</td>\n",
       "      <td>Free Meal</td>\n",
       "      <td>4,065</td>\n",
       "    </tr>\n",
       "    <tr>\n",
       "      <th>1</th>\n",
       "      <td>Air India</td>\n",
       "      <td>New Delhi</td>\n",
       "      <td>Mumbai</td>\n",
       "      <td>08:00</td>\n",
       "      <td>10:10</td>\n",
       "      <td>2h 10m</td>\n",
       "      <td>Non Stop</td>\n",
       "      <td>Free Meal</td>\n",
       "      <td>4,065</td>\n",
       "    </tr>\n",
       "    <tr>\n",
       "      <th>2</th>\n",
       "      <td>Air India</td>\n",
       "      <td>New Delhi</td>\n",
       "      <td>Mumbai</td>\n",
       "      <td>09:00</td>\n",
       "      <td>11:15</td>\n",
       "      <td>2h 15m</td>\n",
       "      <td>Non Stop</td>\n",
       "      <td>Free Meal</td>\n",
       "      <td>4,065</td>\n",
       "    </tr>\n",
       "    <tr>\n",
       "      <th>3</th>\n",
       "      <td>Air India</td>\n",
       "      <td>New Delhi</td>\n",
       "      <td>Mumbai</td>\n",
       "      <td>14:00</td>\n",
       "      <td>16:15</td>\n",
       "      <td>2h 15m</td>\n",
       "      <td>Non Stop</td>\n",
       "      <td>Free Meal</td>\n",
       "      <td>4,065</td>\n",
       "    </tr>\n",
       "    <tr>\n",
       "      <th>4</th>\n",
       "      <td>Air India</td>\n",
       "      <td>New Delhi</td>\n",
       "      <td>Mumbai</td>\n",
       "      <td>21:15</td>\n",
       "      <td>23:35</td>\n",
       "      <td>2h 20m</td>\n",
       "      <td>Non Stop</td>\n",
       "      <td>Free Meal</td>\n",
       "      <td>4,065</td>\n",
       "    </tr>\n",
       "  </tbody>\n",
       "</table>\n",
       "</div>"
      ],
      "text/plain": [
       "     Airline     Source Destination Dep_Time Arrival_Time Duration  \\\n",
       "0  Air India  New Delhi      Mumbai    07:00        09:05   2h 05m   \n",
       "1  Air India  New Delhi      Mumbai    08:00        10:10   2h 10m   \n",
       "2  Air India  New Delhi      Mumbai    09:00        11:15   2h 15m   \n",
       "3  Air India  New Delhi      Mumbai    14:00        16:15   2h 15m   \n",
       "4  Air India  New Delhi      Mumbai    21:15        23:35   2h 20m   \n",
       "\n",
       "  Total_Stops Additional_Info Price (in ₹)  \n",
       "0    Non Stop       Free Meal        4,065  \n",
       "1    Non Stop       Free Meal        4,065  \n",
       "2    Non Stop       Free Meal        4,065  \n",
       "3    Non Stop       Free Meal        4,065  \n",
       "4    Non Stop       Free Meal        4,065  "
      ]
     },
     "execution_count": 48,
     "metadata": {},
     "output_type": "execute_result"
    }
   ],
   "source": [
    "flight_df.head()"
   ]
  },
  {
   "cell_type": "code",
   "execution_count": 49,
   "id": "60ed42da",
   "metadata": {},
   "outputs": [
    {
     "data": {
      "text/plain": [
       "(1948, 9)"
      ]
     },
     "execution_count": 49,
     "metadata": {},
     "output_type": "execute_result"
    }
   ],
   "source": [
    "flight_df.shape"
   ]
  },
  {
   "cell_type": "code",
   "execution_count": 50,
   "id": "a485c08e",
   "metadata": {},
   "outputs": [
    {
     "name": "stdout",
     "output_type": "stream",
     "text": [
      "<class 'pandas.core.frame.DataFrame'>\n",
      "RangeIndex: 1948 entries, 0 to 1947\n",
      "Data columns (total 9 columns):\n",
      " #   Column           Non-Null Count  Dtype \n",
      "---  ------           --------------  ----- \n",
      " 0   Airline          1948 non-null   object\n",
      " 1   Source           1948 non-null   object\n",
      " 2   Destination      1948 non-null   object\n",
      " 3   Dep_Time         1948 non-null   object\n",
      " 4   Arrival_Time     1948 non-null   object\n",
      " 5   Duration         1948 non-null   object\n",
      " 6   Total_Stops      1948 non-null   object\n",
      " 7   Additional_Info  1769 non-null   object\n",
      " 8   Price (in ₹)     1948 non-null   object\n",
      "dtypes: object(9)\n",
      "memory usage: 137.1+ KB\n"
     ]
    }
   ],
   "source": [
    "flight_df.info()"
   ]
  },
  {
   "cell_type": "code",
   "execution_count": 51,
   "id": "92d9c6f5",
   "metadata": {},
   "outputs": [
    {
     "data": {
      "text/plain": [
       "Airline              0\n",
       "Source               0\n",
       "Destination          0\n",
       "Dep_Time             0\n",
       "Arrival_Time         0\n",
       "Duration             0\n",
       "Total_Stops          0\n",
       "Additional_Info    179\n",
       "Price (in ₹)         0\n",
       "dtype: int64"
      ]
     },
     "execution_count": 51,
     "metadata": {},
     "output_type": "execute_result"
    }
   ],
   "source": [
    "flight_df.isnull().sum()"
   ]
  },
  {
   "cell_type": "code",
   "execution_count": 52,
   "id": "fb2ba5e2",
   "metadata": {},
   "outputs": [
    {
     "data": {
      "text/html": [
       "<div>\n",
       "<style scoped>\n",
       "    .dataframe tbody tr th:only-of-type {\n",
       "        vertical-align: middle;\n",
       "    }\n",
       "\n",
       "    .dataframe tbody tr th {\n",
       "        vertical-align: top;\n",
       "    }\n",
       "\n",
       "    .dataframe thead th {\n",
       "        text-align: right;\n",
       "    }\n",
       "</style>\n",
       "<table border=\"1\" class=\"dataframe\">\n",
       "  <thead>\n",
       "    <tr style=\"text-align: right;\">\n",
       "      <th></th>\n",
       "      <th>Airline</th>\n",
       "      <th>Source</th>\n",
       "      <th>Destination</th>\n",
       "      <th>Dep_Time</th>\n",
       "      <th>Arrival_Time</th>\n",
       "      <th>Duration</th>\n",
       "      <th>Total_Stops</th>\n",
       "      <th>Additional_Info</th>\n",
       "      <th>Price (in ₹)</th>\n",
       "    </tr>\n",
       "  </thead>\n",
       "  <tbody>\n",
       "    <tr>\n",
       "      <th>0</th>\n",
       "      <td>Air India</td>\n",
       "      <td>New Delhi</td>\n",
       "      <td>Mumbai</td>\n",
       "      <td>07:00</td>\n",
       "      <td>09:05</td>\n",
       "      <td>2h 05m</td>\n",
       "      <td>Non Stop</td>\n",
       "      <td>Free Meal</td>\n",
       "      <td>4,065</td>\n",
       "    </tr>\n",
       "    <tr>\n",
       "      <th>1</th>\n",
       "      <td>Air India</td>\n",
       "      <td>New Delhi</td>\n",
       "      <td>Mumbai</td>\n",
       "      <td>08:00</td>\n",
       "      <td>10:10</td>\n",
       "      <td>2h 10m</td>\n",
       "      <td>Non Stop</td>\n",
       "      <td>Free Meal</td>\n",
       "      <td>4,065</td>\n",
       "    </tr>\n",
       "    <tr>\n",
       "      <th>2</th>\n",
       "      <td>Air India</td>\n",
       "      <td>New Delhi</td>\n",
       "      <td>Mumbai</td>\n",
       "      <td>09:00</td>\n",
       "      <td>11:15</td>\n",
       "      <td>2h 15m</td>\n",
       "      <td>Non Stop</td>\n",
       "      <td>Free Meal</td>\n",
       "      <td>4,065</td>\n",
       "    </tr>\n",
       "    <tr>\n",
       "      <th>3</th>\n",
       "      <td>Air India</td>\n",
       "      <td>New Delhi</td>\n",
       "      <td>Mumbai</td>\n",
       "      <td>14:00</td>\n",
       "      <td>16:15</td>\n",
       "      <td>2h 15m</td>\n",
       "      <td>Non Stop</td>\n",
       "      <td>Free Meal</td>\n",
       "      <td>4,065</td>\n",
       "    </tr>\n",
       "    <tr>\n",
       "      <th>4</th>\n",
       "      <td>Air India</td>\n",
       "      <td>New Delhi</td>\n",
       "      <td>Mumbai</td>\n",
       "      <td>21:15</td>\n",
       "      <td>23:35</td>\n",
       "      <td>2h 20m</td>\n",
       "      <td>Non Stop</td>\n",
       "      <td>Free Meal</td>\n",
       "      <td>4,065</td>\n",
       "    </tr>\n",
       "    <tr>\n",
       "      <th>...</th>\n",
       "      <td>...</td>\n",
       "      <td>...</td>\n",
       "      <td>...</td>\n",
       "      <td>...</td>\n",
       "      <td>...</td>\n",
       "      <td>...</td>\n",
       "      <td>...</td>\n",
       "      <td>...</td>\n",
       "      <td>...</td>\n",
       "    </tr>\n",
       "    <tr>\n",
       "      <th>1943</th>\n",
       "      <td>IndiGo</td>\n",
       "      <td>Kolkata</td>\n",
       "      <td>Bagdogra</td>\n",
       "      <td>12:30</td>\n",
       "      <td>13:45</td>\n",
       "      <td>1h 15m</td>\n",
       "      <td>Non Stop</td>\n",
       "      <td>NaN</td>\n",
       "      <td>5,242</td>\n",
       "    </tr>\n",
       "    <tr>\n",
       "      <th>1944</th>\n",
       "      <td>Go First</td>\n",
       "      <td>Kolkata</td>\n",
       "      <td>Pune</td>\n",
       "      <td>10:20</td>\n",
       "      <td>13:05</td>\n",
       "      <td>2h 45m</td>\n",
       "      <td>Non Stop</td>\n",
       "      <td>NaN</td>\n",
       "      <td>4,975</td>\n",
       "    </tr>\n",
       "    <tr>\n",
       "      <th>1945</th>\n",
       "      <td>IndiGo</td>\n",
       "      <td>Kolkata</td>\n",
       "      <td>Pune</td>\n",
       "      <td>21:05</td>\n",
       "      <td>23:40</td>\n",
       "      <td>2h 35m</td>\n",
       "      <td>Non Stop</td>\n",
       "      <td>NaN</td>\n",
       "      <td>4,976</td>\n",
       "    </tr>\n",
       "    <tr>\n",
       "      <th>1946</th>\n",
       "      <td>IndiGo</td>\n",
       "      <td>Kolkata</td>\n",
       "      <td>Pune</td>\n",
       "      <td>09:15</td>\n",
       "      <td>13:10</td>\n",
       "      <td>3h 55m</td>\n",
       "      <td>1 Stop</td>\n",
       "      <td>NaN</td>\n",
       "      <td>5,720</td>\n",
       "    </tr>\n",
       "    <tr>\n",
       "      <th>1947</th>\n",
       "      <td>Go First</td>\n",
       "      <td>Kolkata</td>\n",
       "      <td>Pune</td>\n",
       "      <td>09:30</td>\n",
       "      <td>19:05</td>\n",
       "      <td>9h 35m</td>\n",
       "      <td>1 Stop</td>\n",
       "      <td>NaN</td>\n",
       "      <td>6,882</td>\n",
       "    </tr>\n",
       "  </tbody>\n",
       "</table>\n",
       "<p>1948 rows × 9 columns</p>\n",
       "</div>"
      ],
      "text/plain": [
       "        Airline     Source Destination Dep_Time Arrival_Time Duration  \\\n",
       "0     Air India  New Delhi      Mumbai    07:00        09:05   2h 05m   \n",
       "1     Air India  New Delhi      Mumbai    08:00        10:10   2h 10m   \n",
       "2     Air India  New Delhi      Mumbai    09:00        11:15   2h 15m   \n",
       "3     Air India  New Delhi      Mumbai    14:00        16:15   2h 15m   \n",
       "4     Air India  New Delhi      Mumbai    21:15        23:35   2h 20m   \n",
       "...         ...        ...         ...      ...          ...      ...   \n",
       "1943     IndiGo    Kolkata    Bagdogra    12:30        13:45   1h 15m   \n",
       "1944   Go First    Kolkata        Pune    10:20        13:05   2h 45m   \n",
       "1945     IndiGo    Kolkata        Pune    21:05        23:40   2h 35m   \n",
       "1946     IndiGo    Kolkata        Pune    09:15        13:10   3h 55m   \n",
       "1947   Go First    Kolkata        Pune    09:30        19:05   9h 35m   \n",
       "\n",
       "     Total_Stops Additional_Info Price (in ₹)  \n",
       "0       Non Stop       Free Meal        4,065  \n",
       "1       Non Stop       Free Meal        4,065  \n",
       "2       Non Stop       Free Meal        4,065  \n",
       "3       Non Stop       Free Meal        4,065  \n",
       "4       Non Stop       Free Meal        4,065  \n",
       "...          ...             ...          ...  \n",
       "1943    Non Stop             NaN        5,242  \n",
       "1944    Non Stop             NaN        4,975  \n",
       "1945    Non Stop             NaN        4,976  \n",
       "1946      1 Stop             NaN        5,720  \n",
       "1947      1 Stop             NaN        6,882  \n",
       "\n",
       "[1948 rows x 9 columns]"
      ]
     },
     "execution_count": 52,
     "metadata": {},
     "output_type": "execute_result"
    }
   ],
   "source": [
    "flight_df['Additional_Info']=flight_df['Additional_Info'].replace('No info', np.nan)\n",
    "flight_df"
   ]
  },
  {
   "cell_type": "code",
   "execution_count": 53,
   "id": "ee24ceb8",
   "metadata": {},
   "outputs": [
    {
     "data": {
      "text/plain": [
       "Airline               0\n",
       "Source                0\n",
       "Destination           0\n",
       "Dep_Time              0\n",
       "Arrival_Time          0\n",
       "Duration              0\n",
       "Total_Stops           0\n",
       "Additional_Info    1532\n",
       "Price (in ₹)          0\n",
       "dtype: int64"
      ]
     },
     "execution_count": 53,
     "metadata": {},
     "output_type": "execute_result"
    }
   ],
   "source": [
    "flight_df.isnull().sum()"
   ]
  },
  {
   "cell_type": "code",
   "execution_count": 54,
   "id": "0a1dea5c",
   "metadata": {},
   "outputs": [
    {
     "data": {
      "text/plain": [
       "<AxesSubplot:>"
      ]
     },
     "execution_count": 54,
     "metadata": {},
     "output_type": "execute_result"
    },
    {
     "data": {
      "image/png": "[encoded data removed]",
      "text/plain": [
       "<Figure size 432x288 with 2 Axes>"
      ]
     },
     "metadata": {
      "needs_background": "light"
     },
     "output_type": "display_data"
    }
   ],
   "source": [
    "#To check missing values\n",
    "sns.heatmap(flight_df.isnull())"
   ]
  },
  {
   "cell_type": "code",
   "execution_count": 55,
   "id": "b4bba03f",
   "metadata": {},
   "outputs": [
    {
     "data": {
      "text/plain": [
       "78.64476386036961"
      ]
     },
     "execution_count": 55,
     "metadata": {},
     "output_type": "execute_result"
    }
   ],
   "source": [
    "#To check percent of missing data in column Additional info\n",
    "flight_df['Additional_Info']. isnull(). sum() * 100 / len(flight_df['Additional_Info'])"
   ]
  },
  {
   "cell_type": "markdown",
   "id": "da09202f",
   "metadata": {},
   "source": [
    "Here we can see almost 78% of data is missing from Additional_info column. So rather than replacing the nana value with simple imputer, we will drop the Additional info column."
   ]
  },
  {
   "cell_type": "code",
   "execution_count": 56,
   "id": "c0992ddb",
   "metadata": {},
   "outputs": [
    {
     "data": {
      "text/html": [
       "<div>\n",
       "<style scoped>\n",
       "    .dataframe tbody tr th:only-of-type {\n",
       "        vertical-align: middle;\n",
       "    }\n",
       "\n",
       "    .dataframe tbody tr th {\n",
       "        vertical-align: top;\n",
       "    }\n",
       "\n",
       "    .dataframe thead th {\n",
       "        text-align: right;\n",
       "    }\n",
       "</style>\n",
       "<table border=\"1\" class=\"dataframe\">\n",
       "  <thead>\n",
       "    <tr style=\"text-align: right;\">\n",
       "      <th></th>\n",
       "      <th>Airline</th>\n",
       "      <th>Source</th>\n",
       "      <th>Destination</th>\n",
       "      <th>Dep_Time</th>\n",
       "      <th>Arrival_Time</th>\n",
       "      <th>Duration</th>\n",
       "      <th>Total_Stops</th>\n",
       "      <th>Price (in ₹)</th>\n",
       "    </tr>\n",
       "  </thead>\n",
       "  <tbody>\n",
       "    <tr>\n",
       "      <th>0</th>\n",
       "      <td>Air India</td>\n",
       "      <td>New Delhi</td>\n",
       "      <td>Mumbai</td>\n",
       "      <td>07:00</td>\n",
       "      <td>09:05</td>\n",
       "      <td>2h 05m</td>\n",
       "      <td>Non Stop</td>\n",
       "      <td>4,065</td>\n",
       "    </tr>\n",
       "    <tr>\n",
       "      <th>1</th>\n",
       "      <td>Air India</td>\n",
       "      <td>New Delhi</td>\n",
       "      <td>Mumbai</td>\n",
       "      <td>08:00</td>\n",
       "      <td>10:10</td>\n",
       "      <td>2h 10m</td>\n",
       "      <td>Non Stop</td>\n",
       "      <td>4,065</td>\n",
       "    </tr>\n",
       "    <tr>\n",
       "      <th>2</th>\n",
       "      <td>Air India</td>\n",
       "      <td>New Delhi</td>\n",
       "      <td>Mumbai</td>\n",
       "      <td>09:00</td>\n",
       "      <td>11:15</td>\n",
       "      <td>2h 15m</td>\n",
       "      <td>Non Stop</td>\n",
       "      <td>4,065</td>\n",
       "    </tr>\n",
       "    <tr>\n",
       "      <th>3</th>\n",
       "      <td>Air India</td>\n",
       "      <td>New Delhi</td>\n",
       "      <td>Mumbai</td>\n",
       "      <td>14:00</td>\n",
       "      <td>16:15</td>\n",
       "      <td>2h 15m</td>\n",
       "      <td>Non Stop</td>\n",
       "      <td>4,065</td>\n",
       "    </tr>\n",
       "    <tr>\n",
       "      <th>4</th>\n",
       "      <td>Air India</td>\n",
       "      <td>New Delhi</td>\n",
       "      <td>Mumbai</td>\n",
       "      <td>21:15</td>\n",
       "      <td>23:35</td>\n",
       "      <td>2h 20m</td>\n",
       "      <td>Non Stop</td>\n",
       "      <td>4,065</td>\n",
       "    </tr>\n",
       "  </tbody>\n",
       "</table>\n",
       "</div>"
      ],
      "text/plain": [
       "     Airline     Source Destination Dep_Time Arrival_Time Duration  \\\n",
       "0  Air India  New Delhi      Mumbai    07:00        09:05   2h 05m   \n",
       "1  Air India  New Delhi      Mumbai    08:00        10:10   2h 10m   \n",
       "2  Air India  New Delhi      Mumbai    09:00        11:15   2h 15m   \n",
       "3  Air India  New Delhi      Mumbai    14:00        16:15   2h 15m   \n",
       "4  Air India  New Delhi      Mumbai    21:15        23:35   2h 20m   \n",
       "\n",
       "  Total_Stops Price (in ₹)  \n",
       "0    Non Stop        4,065  \n",
       "1    Non Stop        4,065  \n",
       "2    Non Stop        4,065  \n",
       "3    Non Stop        4,065  \n",
       "4    Non Stop        4,065  "
      ]
     },
     "execution_count": 56,
     "metadata": {},
     "output_type": "execute_result"
    }
   ],
   "source": [
    "flight_df.drop('Additional_Info', axis=1, inplace=True)\n",
    "flight_df.head()"
   ]
  },
  {
   "cell_type": "markdown",
   "id": "a5fbc29b",
   "metadata": {},
   "source": [
    "## EDA"
   ]
  },
  {
   "cell_type": "code",
   "execution_count": 57,
   "id": "cbe6a66b",
   "metadata": {},
   "outputs": [
    {
     "name": "stdout",
     "output_type": "stream",
     "text": [
      "Airline\n",
      "IndiGo          852\n",
      "Air Asia        349\n",
      "Vistara         315\n",
      "Go First        238\n",
      "Air India        79\n",
      "SpiceJet         78\n",
      "Alliance Air     33\n",
      "FlyBig            4\n",
      "Name: Airline, dtype: int64 \n",
      "\n",
      "Source\n",
      "Mumbai       416\n",
      "Bangalore    367\n",
      "New Delhi    363\n",
      "Hyderabad    324\n",
      "Kolkata      301\n",
      "Pune         145\n",
      "Chennai       32\n",
      "Name: Source, dtype: int64 \n",
      "\n",
      "Destination\n",
      "Bangalore        232\n",
      "New Delhi        197\n",
      "Hyderabad        196\n",
      "Chennai          155\n",
      "Mumbai           129\n",
      "Goa              108\n",
      "Guwahati         102\n",
      "Pune              96\n",
      "Kolkata           93\n",
      "Chandigarh        78\n",
      "Bagdogra          78\n",
      "Lucknow           73\n",
      "Varanasi          70\n",
      "Jaipur            61\n",
      "Dehradun          55\n",
      "Ahmedabad         46\n",
      "Kochi             38\n",
      "Visakhapatnam     32\n",
      "Patna             30\n",
      "Srinagar          30\n",
      "Tirupati          28\n",
      "Port Blair        21\n",
      "Name: Destination, dtype: int64 \n",
      "\n",
      "Dep_Time\n",
      "09:30    50\n",
      "05:45    33\n",
      "06:30    30\n",
      "06:05    30\n",
      "08:00    28\n",
      "         ..\n",
      "21:25     2\n",
      "02:00     2\n",
      "10:55     2\n",
      "09:40     2\n",
      "14:55     2\n",
      "Name: Dep_Time, Length: 210, dtype: int64 \n",
      "\n",
      "Arrival_Time\n",
      "14:45    48\n",
      "12:10    34\n",
      "13:55    33\n",
      "08:35    27\n",
      "20:55    27\n",
      "         ..\n",
      "08:20     2\n",
      "04:15     2\n",
      "16:05     2\n",
      "07:35     2\n",
      "21:05     2\n",
      "Name: Arrival_Time, Length: 201, dtype: int64 \n",
      "\n",
      "Duration\n",
      "2h 10m     118\n",
      "1h 15m     108\n",
      "2h 15m     102\n",
      "1h 10m      86\n",
      "2h 05m      85\n",
      "          ... \n",
      "7h 00m       3\n",
      "11h 20m      3\n",
      "9h 15m       2\n",
      "10h 55m      2\n",
      "10h 25m      2\n",
      "Name: Duration, Length: 103, dtype: int64 \n",
      "\n",
      "Total_Stops\n",
      "Non Stop     1458\n",
      "1 Stop        473\n",
      "2 Stop(s)      17\n",
      "Name: Total_Stops, dtype: int64 \n",
      "\n",
      "Price (in ₹)\n",
      "4,469    83\n",
      "5,891    72\n",
      "6,487    54\n",
      "9,132    48\n",
      "5,943    44\n",
      "         ..\n",
      "4,076     2\n",
      "4,779     2\n",
      "4,881     2\n",
      "4,737     2\n",
      "4,764     2\n",
      "Name: Price (in ₹), Length: 182, dtype: int64 \n",
      "\n"
     ]
    }
   ],
   "source": [
    "#Checking the unique values counts in the columns\n",
    "obj_col = flight_df.select_dtypes(include= \"object\")\n",
    "for i in obj_col.columns:\n",
    "    print(i)\n",
    "    print(obj_col[i].value_counts(),\"\\n\")"
   ]
  },
  {
   "cell_type": "markdown",
   "id": "a681c076",
   "metadata": {},
   "source": [
    "Conclusion:\n",
    "    \n",
    "1. we have multiple airlines data, top 3 airlines names are Indigo, AirAsia and Vistara.\n",
    "2. Date column has to be converted into datetime columns and date and month from the date needs to be separated for analysin.\n",
    "3. Major sources of the flights are from major 4 cities i.e. Mumbai, Bangalore, Delhi and Hydrabad.And their destination is also to major cities i.e. Bangalore,New Delhi, Hydrabad and Chennai.\n",
    "4. Arrival time columns as multiple observations , it has hours, minutes \n",
    "6. Duration is shown in hours and minutes.\n",
    "7. Totat stops tells that how many stops a flight takes. Most of the flights have no stop. Next to it are the flights which are having 1 stop."
   ]
  },
  {
   "cell_type": "markdown",
   "id": "fc0a5c0b",
   "metadata": {},
   "source": [
    "### Creating features by seprating Dep_hour and Dep_min from Departure Time and Arrival Time"
   ]
  },
  {
   "cell_type": "markdown",
   "id": "fb007c2c",
   "metadata": {},
   "source": [
    "#### Departure Time"
   ]
  },
  {
   "cell_type": "code",
   "execution_count": 58,
   "id": "364ce89d",
   "metadata": {},
   "outputs": [],
   "source": [
    "# Departure time is when a plane leaves the gate. \n",
    "\n",
    "# Extracting Hours\n",
    "flight_df[\"Dep_hour\"] = pd.to_datetime(flight_df[\"Dep_Time\"]).dt.hour\n",
    "\n",
    "# Extracting Minutes\n",
    "flight_df[\"Dep_min\"] = pd.to_datetime(flight_df[\"Dep_Time\"]).dt.minute\n",
    "\n",
    "# Now we can drop Dep_Time as it is of no use\n",
    "flight_df.drop([\"Dep_Time\"], axis = 1, inplace = True)\n"
   ]
  },
  {
   "cell_type": "markdown",
   "id": "4987df29",
   "metadata": {},
   "source": [
    "#### Arrival Time"
   ]
  },
  {
   "cell_type": "code",
   "execution_count": 59,
   "id": "e20f0e93",
   "metadata": {},
   "outputs": [],
   "source": [
    "# Arrival time is when the plane pulls up to the gate.\n",
    "\n",
    "# Extracting Hours\n",
    "flight_df[\"Arrival_hour\"] = pd.to_datetime(flight_df['Arrival_Time']).dt.hour\n",
    "\n",
    "# Extracting Minutes\n",
    "flight_df[\"Arrival_min\"] = pd.to_datetime(flight_df['Arrival_Time']).dt.minute\n",
    "\n",
    "# Now we can drop Arrival_Time as it is of no use\n",
    "flight_df.drop([\"Arrival_Time\"], axis = 1, inplace = True)\n"
   ]
  },
  {
   "cell_type": "code",
   "execution_count": 60,
   "id": "8bc11392",
   "metadata": {},
   "outputs": [
    {
     "data": {
      "text/html": [
       "<div>\n",
       "<style scoped>\n",
       "    .dataframe tbody tr th:only-of-type {\n",
       "        vertical-align: middle;\n",
       "    }\n",
       "\n",
       "    .dataframe tbody tr th {\n",
       "        vertical-align: top;\n",
       "    }\n",
       "\n",
       "    .dataframe thead th {\n",
       "        text-align: right;\n",
       "    }\n",
       "</style>\n",
       "<table border=\"1\" class=\"dataframe\">\n",
       "  <thead>\n",
       "    <tr style=\"text-align: right;\">\n",
       "      <th></th>\n",
       "      <th>Airline</th>\n",
       "      <th>Source</th>\n",
       "      <th>Destination</th>\n",
       "      <th>Duration</th>\n",
       "      <th>Total_Stops</th>\n",
       "      <th>Price (in ₹)</th>\n",
       "      <th>Dep_hour</th>\n",
       "      <th>Dep_min</th>\n",
       "      <th>Arrival_hour</th>\n",
       "      <th>Arrival_min</th>\n",
       "    </tr>\n",
       "  </thead>\n",
       "  <tbody>\n",
       "    <tr>\n",
       "      <th>0</th>\n",
       "      <td>Air India</td>\n",
       "      <td>New Delhi</td>\n",
       "      <td>Mumbai</td>\n",
       "      <td>2h 05m</td>\n",
       "      <td>Non Stop</td>\n",
       "      <td>4,065</td>\n",
       "      <td>7</td>\n",
       "      <td>0</td>\n",
       "      <td>9</td>\n",
       "      <td>5</td>\n",
       "    </tr>\n",
       "    <tr>\n",
       "      <th>1</th>\n",
       "      <td>Air India</td>\n",
       "      <td>New Delhi</td>\n",
       "      <td>Mumbai</td>\n",
       "      <td>2h 10m</td>\n",
       "      <td>Non Stop</td>\n",
       "      <td>4,065</td>\n",
       "      <td>8</td>\n",
       "      <td>0</td>\n",
       "      <td>10</td>\n",
       "      <td>10</td>\n",
       "    </tr>\n",
       "    <tr>\n",
       "      <th>2</th>\n",
       "      <td>Air India</td>\n",
       "      <td>New Delhi</td>\n",
       "      <td>Mumbai</td>\n",
       "      <td>2h 15m</td>\n",
       "      <td>Non Stop</td>\n",
       "      <td>4,065</td>\n",
       "      <td>9</td>\n",
       "      <td>0</td>\n",
       "      <td>11</td>\n",
       "      <td>15</td>\n",
       "    </tr>\n",
       "    <tr>\n",
       "      <th>3</th>\n",
       "      <td>Air India</td>\n",
       "      <td>New Delhi</td>\n",
       "      <td>Mumbai</td>\n",
       "      <td>2h 15m</td>\n",
       "      <td>Non Stop</td>\n",
       "      <td>4,065</td>\n",
       "      <td>14</td>\n",
       "      <td>0</td>\n",
       "      <td>16</td>\n",
       "      <td>15</td>\n",
       "    </tr>\n",
       "    <tr>\n",
       "      <th>4</th>\n",
       "      <td>Air India</td>\n",
       "      <td>New Delhi</td>\n",
       "      <td>Mumbai</td>\n",
       "      <td>2h 20m</td>\n",
       "      <td>Non Stop</td>\n",
       "      <td>4,065</td>\n",
       "      <td>21</td>\n",
       "      <td>15</td>\n",
       "      <td>23</td>\n",
       "      <td>35</td>\n",
       "    </tr>\n",
       "  </tbody>\n",
       "</table>\n",
       "</div>"
      ],
      "text/plain": [
       "     Airline     Source Destination Duration Total_Stops Price (in ₹)  \\\n",
       "0  Air India  New Delhi      Mumbai   2h 05m    Non Stop        4,065   \n",
       "1  Air India  New Delhi      Mumbai   2h 10m    Non Stop        4,065   \n",
       "2  Air India  New Delhi      Mumbai   2h 15m    Non Stop        4,065   \n",
       "3  Air India  New Delhi      Mumbai   2h 15m    Non Stop        4,065   \n",
       "4  Air India  New Delhi      Mumbai   2h 20m    Non Stop        4,065   \n",
       "\n",
       "   Dep_hour  Dep_min  Arrival_hour  Arrival_min  \n",
       "0         7        0             9            5  \n",
       "1         8        0            10           10  \n",
       "2         9        0            11           15  \n",
       "3        14        0            16           15  \n",
       "4        21       15            23           35  "
      ]
     },
     "execution_count": 60,
     "metadata": {},
     "output_type": "execute_result"
    }
   ],
   "source": [
    "flight_df.head()"
   ]
  },
  {
   "cell_type": "markdown",
   "id": "46c9adde",
   "metadata": {},
   "source": [
    "### Extracting the hours and min from the Duration column"
   ]
  },
  {
   "cell_type": "code",
   "execution_count": 61,
   "id": "e4d9c09d",
   "metadata": {},
   "outputs": [],
   "source": [
    "# Time taken by plane to reach destination is called Duration\n",
    "# It is the differnce betwwen Departure Time and Arrival time\n",
    "# Assigning and converting Duration column into list\n",
    "\n",
    "duration = list(flight_df[\"Duration\"])\n",
    "for i in range(len(duration)):\n",
    "    if len(duration[i].split()) !=2:\n",
    "        if \"h\" in duration[i]:\n",
    "             duration[i] = duration[i].strip() + \" 0m\" \n",
    "        else:\n",
    "            duration[i] = \"0h \" + duration[i]\n",
    "duration_hrs = []\n",
    "duration_min = []\n",
    "\n",
    "for i in range(len(duration)):\n",
    "    duration_hrs.append(int(duration[i].split(\"h\")[0]))\n",
    "    duration_min.append(int(duration[i].split(\"m\")[0].split()[-1]))"
   ]
  },
  {
   "cell_type": "code",
   "execution_count": 62,
   "id": "2887192d",
   "metadata": {},
   "outputs": [],
   "source": [
    "flight_df[\"Duration_hours\"] = duration_hrs\n",
    "flight_df[\"Duration_Min\"] = duration_hrs\n",
    "flight_df.drop(\"Duration\",axis = 1,inplace = True)"
   ]
  },
  {
   "cell_type": "code",
   "execution_count": 63,
   "id": "923ec1c4",
   "metadata": {},
   "outputs": [
    {
     "data": {
      "text/html": [
       "<div>\n",
       "<style scoped>\n",
       "    .dataframe tbody tr th:only-of-type {\n",
       "        vertical-align: middle;\n",
       "    }\n",
       "\n",
       "    .dataframe tbody tr th {\n",
       "        vertical-align: top;\n",
       "    }\n",
       "\n",
       "    .dataframe thead th {\n",
       "        text-align: right;\n",
       "    }\n",
       "</style>\n",
       "<table border=\"1\" class=\"dataframe\">\n",
       "  <thead>\n",
       "    <tr style=\"text-align: right;\">\n",
       "      <th></th>\n",
       "      <th>Airline</th>\n",
       "      <th>Source</th>\n",
       "      <th>Destination</th>\n",
       "      <th>Total_Stops</th>\n",
       "      <th>Price (in ₹)</th>\n",
       "      <th>Dep_hour</th>\n",
       "      <th>Dep_min</th>\n",
       "      <th>Arrival_hour</th>\n",
       "      <th>Arrival_min</th>\n",
       "      <th>Duration_hours</th>\n",
       "      <th>Duration_Min</th>\n",
       "    </tr>\n",
       "  </thead>\n",
       "  <tbody>\n",
       "    <tr>\n",
       "      <th>0</th>\n",
       "      <td>Air India</td>\n",
       "      <td>New Delhi</td>\n",
       "      <td>Mumbai</td>\n",
       "      <td>Non Stop</td>\n",
       "      <td>4,065</td>\n",
       "      <td>7</td>\n",
       "      <td>0</td>\n",
       "      <td>9</td>\n",
       "      <td>5</td>\n",
       "      <td>2</td>\n",
       "      <td>2</td>\n",
       "    </tr>\n",
       "    <tr>\n",
       "      <th>1</th>\n",
       "      <td>Air India</td>\n",
       "      <td>New Delhi</td>\n",
       "      <td>Mumbai</td>\n",
       "      <td>Non Stop</td>\n",
       "      <td>4,065</td>\n",
       "      <td>8</td>\n",
       "      <td>0</td>\n",
       "      <td>10</td>\n",
       "      <td>10</td>\n",
       "      <td>2</td>\n",
       "      <td>2</td>\n",
       "    </tr>\n",
       "  </tbody>\n",
       "</table>\n",
       "</div>"
      ],
      "text/plain": [
       "     Airline     Source Destination Total_Stops Price (in ₹)  Dep_hour  \\\n",
       "0  Air India  New Delhi      Mumbai    Non Stop        4,065         7   \n",
       "1  Air India  New Delhi      Mumbai    Non Stop        4,065         8   \n",
       "\n",
       "   Dep_min  Arrival_hour  Arrival_min  Duration_hours  Duration_Min  \n",
       "0        0             9            5               2             2  \n",
       "1        0            10           10               2             2  "
      ]
     },
     "execution_count": 63,
     "metadata": {},
     "output_type": "execute_result"
    }
   ],
   "source": [
    "flight_df.head(2)"
   ]
  },
  {
   "cell_type": "code",
   "execution_count": 64,
   "id": "2b5cf01a",
   "metadata": {},
   "outputs": [],
   "source": [
    "# Replacing Total_Stops\n",
    "flight_df.replace({\"Non Stop\": 0, \"1 Stop\": 1, \"2 Stop(s)\": 2}, inplace = True)"
   ]
  },
  {
   "cell_type": "code",
   "execution_count": 65,
   "id": "e3675e1b",
   "metadata": {},
   "outputs": [
    {
     "data": {
      "text/html": [
       "<div>\n",
       "<style scoped>\n",
       "    .dataframe tbody tr th:only-of-type {\n",
       "        vertical-align: middle;\n",
       "    }\n",
       "\n",
       "    .dataframe tbody tr th {\n",
       "        vertical-align: top;\n",
       "    }\n",
       "\n",
       "    .dataframe thead th {\n",
       "        text-align: right;\n",
       "    }\n",
       "</style>\n",
       "<table border=\"1\" class=\"dataframe\">\n",
       "  <thead>\n",
       "    <tr style=\"text-align: right;\">\n",
       "      <th></th>\n",
       "      <th>Airline</th>\n",
       "      <th>Source</th>\n",
       "      <th>Destination</th>\n",
       "      <th>Total_Stops</th>\n",
       "      <th>Price (in ₹)</th>\n",
       "      <th>Dep_hour</th>\n",
       "      <th>Dep_min</th>\n",
       "      <th>Arrival_hour</th>\n",
       "      <th>Arrival_min</th>\n",
       "      <th>Duration_hours</th>\n",
       "      <th>Duration_Min</th>\n",
       "    </tr>\n",
       "  </thead>\n",
       "  <tbody>\n",
       "    <tr>\n",
       "      <th>0</th>\n",
       "      <td>Air India</td>\n",
       "      <td>New Delhi</td>\n",
       "      <td>Mumbai</td>\n",
       "      <td>0</td>\n",
       "      <td>4,065</td>\n",
       "      <td>7</td>\n",
       "      <td>0</td>\n",
       "      <td>9</td>\n",
       "      <td>5</td>\n",
       "      <td>2</td>\n",
       "      <td>2</td>\n",
       "    </tr>\n",
       "    <tr>\n",
       "      <th>1</th>\n",
       "      <td>Air India</td>\n",
       "      <td>New Delhi</td>\n",
       "      <td>Mumbai</td>\n",
       "      <td>0</td>\n",
       "      <td>4,065</td>\n",
       "      <td>8</td>\n",
       "      <td>0</td>\n",
       "      <td>10</td>\n",
       "      <td>10</td>\n",
       "      <td>2</td>\n",
       "      <td>2</td>\n",
       "    </tr>\n",
       "  </tbody>\n",
       "</table>\n",
       "</div>"
      ],
      "text/plain": [
       "     Airline     Source Destination  Total_Stops Price (in ₹)  Dep_hour  \\\n",
       "0  Air India  New Delhi      Mumbai            0        4,065         7   \n",
       "1  Air India  New Delhi      Mumbai            0        4,065         8   \n",
       "\n",
       "   Dep_min  Arrival_hour  Arrival_min  Duration_hours  Duration_Min  \n",
       "0        0             9            5               2             2  \n",
       "1        0            10           10               2             2  "
      ]
     },
     "execution_count": 65,
     "metadata": {},
     "output_type": "execute_result"
    }
   ],
   "source": [
    "flight_df.head(2)"
   ]
  },
  {
   "cell_type": "code",
   "execution_count": null,
   "id": "42b862e0",
   "metadata": {},
   "outputs": [],
   "source": []
  },
  {
   "cell_type": "code",
   "execution_count": 66,
   "id": "370ebcbf",
   "metadata": {},
   "outputs": [],
   "source": [
    "def convert_price(flight_df):\n",
    "    flight_df['Price (in ₹)'] = flight_df['Price (in ₹)'].str.replace(',', '') # these two lines remove unwanted symbols. Leaving me with a '1100.00' for example\n",
    "    flight_df['Price (in ₹)'] = flight_df['Price (in ₹)'].astype('int64') # convert data to int. \n",
    "    return flight_df"
   ]
  },
  {
   "cell_type": "code",
   "execution_count": 67,
   "id": "4772a2bd",
   "metadata": {},
   "outputs": [
    {
     "name": "stdout",
     "output_type": "stream",
     "text": [
      "        Airline     Source Destination  Total_Stops  Price (in ₹)  Dep_hour  \\\n",
      "0     Air India  New Delhi      Mumbai            0          4065         7   \n",
      "1     Air India  New Delhi      Mumbai            0          4065         8   \n",
      "2     Air India  New Delhi      Mumbai            0          4065         9   \n",
      "3     Air India  New Delhi      Mumbai            0          4065        14   \n",
      "4     Air India  New Delhi      Mumbai            0          4065        21   \n",
      "...         ...        ...         ...          ...           ...       ...   \n",
      "1943     IndiGo    Kolkata    Bagdogra            0          5242        12   \n",
      "1944   Go First    Kolkata        Pune            0          4975        10   \n",
      "1945     IndiGo    Kolkata        Pune            0          4976        21   \n",
      "1946     IndiGo    Kolkata        Pune            1          5720         9   \n",
      "1947   Go First    Kolkata        Pune            1          6882         9   \n",
      "\n",
      "      Dep_min  Arrival_hour  Arrival_min  Duration_hours  Duration_Min  \n",
      "0           0             9            5               2             2  \n",
      "1           0            10           10               2             2  \n",
      "2           0            11           15               2             2  \n",
      "3           0            16           15               2             2  \n",
      "4          15            23           35               2             2  \n",
      "...       ...           ...          ...             ...           ...  \n",
      "1943       30            13           45               1             1  \n",
      "1944       20            13            5               2             2  \n",
      "1945        5            23           40               2             2  \n",
      "1946       15            13           10               3             3  \n",
      "1947       30            19            5               9             9  \n",
      "\n",
      "[1948 rows x 11 columns]\n"
     ]
    }
   ],
   "source": [
    "print(convert_price(flight_df))"
   ]
  },
  {
   "cell_type": "code",
   "execution_count": 68,
   "id": "893e15fa",
   "metadata": {},
   "outputs": [
    {
     "data": {
      "text/html": [
       "<div>\n",
       "<style scoped>\n",
       "    .dataframe tbody tr th:only-of-type {\n",
       "        vertical-align: middle;\n",
       "    }\n",
       "\n",
       "    .dataframe tbody tr th {\n",
       "        vertical-align: top;\n",
       "    }\n",
       "\n",
       "    .dataframe thead th {\n",
       "        text-align: right;\n",
       "    }\n",
       "</style>\n",
       "<table border=\"1\" class=\"dataframe\">\n",
       "  <thead>\n",
       "    <tr style=\"text-align: right;\">\n",
       "      <th></th>\n",
       "      <th>Airline</th>\n",
       "      <th>Source</th>\n",
       "      <th>Destination</th>\n",
       "      <th>Total_Stops</th>\n",
       "      <th>Price (in ₹)</th>\n",
       "      <th>Dep_hour</th>\n",
       "      <th>Dep_min</th>\n",
       "      <th>Arrival_hour</th>\n",
       "      <th>Arrival_min</th>\n",
       "      <th>Duration_hours</th>\n",
       "      <th>Duration_Min</th>\n",
       "    </tr>\n",
       "  </thead>\n",
       "  <tbody>\n",
       "    <tr>\n",
       "      <th>0</th>\n",
       "      <td>Air India</td>\n",
       "      <td>New Delhi</td>\n",
       "      <td>Mumbai</td>\n",
       "      <td>0</td>\n",
       "      <td>4065</td>\n",
       "      <td>7</td>\n",
       "      <td>0</td>\n",
       "      <td>9</td>\n",
       "      <td>5</td>\n",
       "      <td>2</td>\n",
       "      <td>2</td>\n",
       "    </tr>\n",
       "    <tr>\n",
       "      <th>1</th>\n",
       "      <td>Air India</td>\n",
       "      <td>New Delhi</td>\n",
       "      <td>Mumbai</td>\n",
       "      <td>0</td>\n",
       "      <td>4065</td>\n",
       "      <td>8</td>\n",
       "      <td>0</td>\n",
       "      <td>10</td>\n",
       "      <td>10</td>\n",
       "      <td>2</td>\n",
       "      <td>2</td>\n",
       "    </tr>\n",
       "  </tbody>\n",
       "</table>\n",
       "</div>"
      ],
      "text/plain": [
       "     Airline     Source Destination  Total_Stops  Price (in ₹)  Dep_hour  \\\n",
       "0  Air India  New Delhi      Mumbai            0          4065         7   \n",
       "1  Air India  New Delhi      Mumbai            0          4065         8   \n",
       "\n",
       "   Dep_min  Arrival_hour  Arrival_min  Duration_hours  Duration_Min  \n",
       "0        0             9            5               2             2  \n",
       "1        0            10           10               2             2  "
      ]
     },
     "execution_count": 68,
     "metadata": {},
     "output_type": "execute_result"
    }
   ],
   "source": [
    "flight_df.head(2)"
   ]
  },
  {
   "cell_type": "code",
   "execution_count": 69,
   "id": "a4f51ca2",
   "metadata": {},
   "outputs": [
    {
     "name": "stdout",
     "output_type": "stream",
     "text": [
      "<class 'pandas.core.frame.DataFrame'>\n",
      "RangeIndex: 1948 entries, 0 to 1947\n",
      "Data columns (total 11 columns):\n",
      " #   Column          Non-Null Count  Dtype \n",
      "---  ------          --------------  ----- \n",
      " 0   Airline         1948 non-null   object\n",
      " 1   Source          1948 non-null   object\n",
      " 2   Destination     1948 non-null   object\n",
      " 3   Total_Stops     1948 non-null   int64 \n",
      " 4   Price (in ₹)    1948 non-null   int64 \n",
      " 5   Dep_hour        1948 non-null   int64 \n",
      " 6   Dep_min         1948 non-null   int64 \n",
      " 7   Arrival_hour    1948 non-null   int64 \n",
      " 8   Arrival_min     1948 non-null   int64 \n",
      " 9   Duration_hours  1948 non-null   int64 \n",
      " 10  Duration_Min    1948 non-null   int64 \n",
      "dtypes: int64(8), object(3)\n",
      "memory usage: 167.5+ KB\n"
     ]
    }
   ],
   "source": [
    "flight_df.info()"
   ]
  },
  {
   "cell_type": "markdown",
   "id": "78d1d00e",
   "metadata": {},
   "source": [
    "# Univariate Analysis:"
   ]
  },
  {
   "cell_type": "code",
   "execution_count": 70,
   "id": "db4a8e2c",
   "metadata": {},
   "outputs": [
    {
     "data": {
      "text/plain": [
       "count    1948.000000\n",
       "mean     5199.128337\n",
       "std      1355.415178\n",
       "min      2692.000000\n",
       "25%      4352.000000\n",
       "50%      4768.000000\n",
       "75%      6269.750000\n",
       "max      9500.000000\n",
       "Name: Price (in ₹), dtype: float64"
      ]
     },
     "execution_count": 70,
     "metadata": {},
     "output_type": "execute_result"
    }
   ],
   "source": [
    "flight_df[\"Price (in ₹)\"].describe()"
   ]
  },
  {
   "cell_type": "code",
   "execution_count": 71,
   "id": "81062b79",
   "metadata": {},
   "outputs": [
    {
     "data": {
      "text/plain": [
       "<AxesSubplot:>"
      ]
     },
     "execution_count": 71,
     "metadata": {},
     "output_type": "execute_result"
    },
    {
     "data": {
      "image/png": "[encoded data removed]",
      "text/plain": [
       "<Figure size 432x288 with 1 Axes>"
      ]
     },
     "metadata": {
      "needs_background": "light"
     },
     "output_type": "display_data"
    }
   ],
   "source": [
    "#histogram\n",
    "flight_df['Price (in ₹)'].hist(bins = 20)"
   ]
  },
  {
   "cell_type": "code",
   "execution_count": 72,
   "id": "74981514",
   "metadata": {},
   "outputs": [
    {
     "name": "stdout",
     "output_type": "stream",
     "text": [
      "Skewness: 0.789319\n",
      "Kurtosis: 0.465031\n"
     ]
    }
   ],
   "source": [
    "#skewness & kurtosis\n",
    "print(\"Skewness: %f\" % flight_df['Price (in ₹)'].skew())\n",
    "print(\"Kurtosis: %f\" % flight_df['Price (in ₹)'].kurt())"
   ]
  },
  {
   "cell_type": "code",
   "execution_count": 73,
   "id": "254ac71e",
   "metadata": {},
   "outputs": [
    {
     "data": {
      "text/html": [
       "<div>\n",
       "<style scoped>\n",
       "    .dataframe tbody tr th:only-of-type {\n",
       "        vertical-align: middle;\n",
       "    }\n",
       "\n",
       "    .dataframe tbody tr th {\n",
       "        vertical-align: top;\n",
       "    }\n",
       "\n",
       "    .dataframe thead th {\n",
       "        text-align: right;\n",
       "    }\n",
       "</style>\n",
       "<table border=\"1\" class=\"dataframe\">\n",
       "  <thead>\n",
       "    <tr style=\"text-align: right;\">\n",
       "      <th></th>\n",
       "      <th>Total_Stops</th>\n",
       "      <th>Price (in ₹)</th>\n",
       "      <th>Dep_hour</th>\n",
       "      <th>Dep_min</th>\n",
       "      <th>Arrival_hour</th>\n",
       "      <th>Arrival_min</th>\n",
       "      <th>Duration_hours</th>\n",
       "      <th>Duration_Min</th>\n",
       "    </tr>\n",
       "  </thead>\n",
       "  <tbody>\n",
       "    <tr>\n",
       "      <th>count</th>\n",
       "      <td>1948.000000</td>\n",
       "      <td>1948.000000</td>\n",
       "      <td>1948.000000</td>\n",
       "      <td>1948.000000</td>\n",
       "      <td>1948.000000</td>\n",
       "      <td>1948.000000</td>\n",
       "      <td>1948.000000</td>\n",
       "      <td>1948.000000</td>\n",
       "    </tr>\n",
       "    <tr>\n",
       "      <th>mean</th>\n",
       "      <td>0.260267</td>\n",
       "      <td>5199.128337</td>\n",
       "      <td>11.107803</td>\n",
       "      <td>26.434805</td>\n",
       "      <td>14.445072</td>\n",
       "      <td>28.521561</td>\n",
       "      <td>2.950719</td>\n",
       "      <td>2.950719</td>\n",
       "    </tr>\n",
       "    <tr>\n",
       "      <th>std</th>\n",
       "      <td>0.458355</td>\n",
       "      <td>1355.415178</td>\n",
       "      <td>5.698798</td>\n",
       "      <td>17.495538</td>\n",
       "      <td>5.293304</td>\n",
       "      <td>16.749033</td>\n",
       "      <td>2.738497</td>\n",
       "      <td>2.738497</td>\n",
       "    </tr>\n",
       "    <tr>\n",
       "      <th>min</th>\n",
       "      <td>0.000000</td>\n",
       "      <td>2692.000000</td>\n",
       "      <td>0.000000</td>\n",
       "      <td>0.000000</td>\n",
       "      <td>2.000000</td>\n",
       "      <td>0.000000</td>\n",
       "      <td>0.000000</td>\n",
       "      <td>0.000000</td>\n",
       "    </tr>\n",
       "    <tr>\n",
       "      <th>25%</th>\n",
       "      <td>0.000000</td>\n",
       "      <td>4352.000000</td>\n",
       "      <td>6.000000</td>\n",
       "      <td>10.000000</td>\n",
       "      <td>10.000000</td>\n",
       "      <td>15.000000</td>\n",
       "      <td>1.000000</td>\n",
       "      <td>1.000000</td>\n",
       "    </tr>\n",
       "    <tr>\n",
       "      <th>50%</th>\n",
       "      <td>0.000000</td>\n",
       "      <td>4768.000000</td>\n",
       "      <td>10.000000</td>\n",
       "      <td>30.000000</td>\n",
       "      <td>14.000000</td>\n",
       "      <td>25.000000</td>\n",
       "      <td>2.000000</td>\n",
       "      <td>2.000000</td>\n",
       "    </tr>\n",
       "    <tr>\n",
       "      <th>75%</th>\n",
       "      <td>1.000000</td>\n",
       "      <td>6269.750000</td>\n",
       "      <td>16.000000</td>\n",
       "      <td>40.000000</td>\n",
       "      <td>19.000000</td>\n",
       "      <td>45.000000</td>\n",
       "      <td>3.000000</td>\n",
       "      <td>3.000000</td>\n",
       "    </tr>\n",
       "    <tr>\n",
       "      <th>max</th>\n",
       "      <td>2.000000</td>\n",
       "      <td>9500.000000</td>\n",
       "      <td>22.000000</td>\n",
       "      <td>55.000000</td>\n",
       "      <td>23.000000</td>\n",
       "      <td>55.000000</td>\n",
       "      <td>14.000000</td>\n",
       "      <td>14.000000</td>\n",
       "    </tr>\n",
       "  </tbody>\n",
       "</table>\n",
       "</div>"
      ],
      "text/plain": [
       "       Total_Stops  Price (in ₹)     Dep_hour      Dep_min  Arrival_hour  \\\n",
       "count  1948.000000   1948.000000  1948.000000  1948.000000   1948.000000   \n",
       "mean      0.260267   5199.128337    11.107803    26.434805     14.445072   \n",
       "std       0.458355   1355.415178     5.698798    17.495538      5.293304   \n",
       "min       0.000000   2692.000000     0.000000     0.000000      2.000000   \n",
       "25%       0.000000   4352.000000     6.000000    10.000000     10.000000   \n",
       "50%       0.000000   4768.000000    10.000000    30.000000     14.000000   \n",
       "75%       1.000000   6269.750000    16.000000    40.000000     19.000000   \n",
       "max       2.000000   9500.000000    22.000000    55.000000     23.000000   \n",
       "\n",
       "       Arrival_min  Duration_hours  Duration_Min  \n",
       "count  1948.000000     1948.000000   1948.000000  \n",
       "mean     28.521561        2.950719      2.950719  \n",
       "std      16.749033        2.738497      2.738497  \n",
       "min       0.000000        0.000000      0.000000  \n",
       "25%      15.000000        1.000000      1.000000  \n",
       "50%      25.000000        2.000000      2.000000  \n",
       "75%      45.000000        3.000000      3.000000  \n",
       "max      55.000000       14.000000     14.000000  "
      ]
     },
     "execution_count": 73,
     "metadata": {},
     "output_type": "execute_result"
    }
   ],
   "source": [
    "# For numerical columns\n",
    "flight_df.describe()"
   ]
  },
  {
   "cell_type": "markdown",
   "id": "97e7d20d",
   "metadata": {},
   "source": [
    "## Handling Categorical Data"
   ]
  },
  {
   "cell_type": "code",
   "execution_count": 74,
   "id": "0f00d9f6",
   "metadata": {},
   "outputs": [
    {
     "data": {
      "image/png": "[encoded data removed]",
      "text/plain": [
       "<Figure size 1440x360 with 2 Axes>"
      ]
     },
     "metadata": {
      "needs_background": "light"
     },
     "output_type": "display_data"
    }
   ],
   "source": [
    "plt.figure(figsize=(20,5))\n",
    "plt.subplot(1,2,1)\n",
    "sns.countplot('Source',data=flight_df)\n",
    "plt.subplot(1,2,2)\n",
    "sns.countplot('Total_Stops',data=flight_df)\n",
    "plt.tight_layout()    \n",
    "plt.show()"
   ]
  },
  {
   "cell_type": "code",
   "execution_count": 75,
   "id": "4311db68",
   "metadata": {},
   "outputs": [
    {
     "data": {
      "image/png": "[encoded data removed]",
      "text/plain": [
       "<Figure size 720x360 with 1 Axes>"
      ]
     },
     "metadata": {},
     "output_type": "display_data"
    }
   ],
   "source": [
    "sns.set(style=\"whitegrid\")\n",
    "plt.figure(figsize=(10,5))\n",
    "sns.countplot(flight_df.Destination)\n",
    "plt.title(\"Destination\")\n",
    "plt.xticks(rotation=90)\n",
    "plt.show()"
   ]
  },
  {
   "cell_type": "code",
   "execution_count": 76,
   "id": "f5c015f3",
   "metadata": {},
   "outputs": [
    {
     "data": {
      "image/png": "[encoded data removed]",
      "text/plain": [
       "<Figure size 720x360 with 1 Axes>"
      ]
     },
     "metadata": {},
     "output_type": "display_data"
    }
   ],
   "source": [
    "sns.set(style=\"whitegrid\")\n",
    "plt.figure(figsize=(10,5))\n",
    "sns.countplot(flight_df.Airline)\n",
    "plt.title(\"Airline\")\n",
    "plt.xticks(rotation=90)\n",
    "plt.show()"
   ]
  },
  {
   "cell_type": "markdown",
   "id": "5c1f4635",
   "metadata": {},
   "source": [
    "**Conclusion:**\n",
    "1.\tMost of the flight’s source is Mumbai, followed by Bangalore and maximum flight’s has destination as Bangalore followed by New Delhi and Hyderabad.\n",
    "2.\tMaximum flights are having 0 stop only followed by one stop."
   ]
  },
  {
   "cell_type": "code",
   "execution_count": null,
   "id": "85d3c4ec",
   "metadata": {},
   "outputs": [],
   "source": []
  },
  {
   "cell_type": "code",
   "execution_count": 77,
   "id": "3f15df6e",
   "metadata": {},
   "outputs": [
    {
     "data": {
      "image/png": "[encoded data removed]",
      "text/plain": [
       "<Figure size 864x288 with 1 Axes>"
      ]
     },
     "metadata": {},
     "output_type": "display_data"
    }
   ],
   "source": [
    "# Airline vs Price\n",
    "sns.catplot(y = \"Price (in ₹)\", x = \"Airline\", data = flight_df.sort_values(\"Price (in ₹)\", ascending = False), kind=\"boxen\", height = 4, aspect = 3)\n",
    "plt.show()"
   ]
  },
  {
   "cell_type": "code",
   "execution_count": 78,
   "id": "2f3dfabb",
   "metadata": {},
   "outputs": [
    {
     "data": {
      "image/png": "[encoded data removed]",
      "text/plain": [
       "<Figure size 864x288 with 1 Axes>"
      ]
     },
     "metadata": {},
     "output_type": "display_data"
    }
   ],
   "source": [
    "# Source vs Price\n",
    "sns.catplot(y='Price (in ₹)',x='Source',data=flight_df.sort_values('Price (in ₹)', ascending=False),kind='boxen',height=4,aspect=3)\n",
    "plt.show()"
   ]
  },
  {
   "cell_type": "code",
   "execution_count": null,
   "id": "58509d91",
   "metadata": {},
   "outputs": [],
   "source": []
  },
  {
   "cell_type": "code",
   "execution_count": 79,
   "id": "96682a4d",
   "metadata": {},
   "outputs": [
    {
     "data": {
      "text/plain": [
       "<AxesSubplot:xlabel='Source,Destination'>"
      ]
     },
     "execution_count": 79,
     "metadata": {},
     "output_type": "execute_result"
    },
    {
     "data": {
      "image/png": "[encoded data removed]",
      "text/plain": [
       "<Figure size 1080x360 with 1 Axes>"
      ]
     },
     "metadata": {},
     "output_type": "display_data"
    }
   ],
   "source": [
    "plt.figure(figsize =(15,5))\n",
    "flight_df.groupby([\"Source\",\"Destination\"])[\"Price (in ₹)\"].mean().sort_values(ascending= False).plot(kind = \"bar\")"
   ]
  },
  {
   "cell_type": "markdown",
   "id": "fec096e9",
   "metadata": {},
   "source": [
    "Flights starting from Kolkata are having highest price and flight starting from Chennai are having lowest price."
   ]
  },
  {
   "cell_type": "code",
   "execution_count": 80,
   "id": "06077a39",
   "metadata": {},
   "outputs": [
    {
     "data": {
      "text/plain": [
       "<AxesSubplot:xlabel='Total_Stops', ylabel='Price (in ₹)'>"
      ]
     },
     "execution_count": 80,
     "metadata": {},
     "output_type": "execute_result"
    },
    {
     "data": {
      "image/png": "[encoded data removed]",
      "text/plain": [
       "<Figure size 720x216 with 1 Axes>"
      ]
     },
     "metadata": {},
     "output_type": "display_data"
    }
   ],
   "source": [
    "plt.figure(figsize=(10,3))\n",
    "sns.barplot(x = \"Total_Stops\", y = \"Price (in ₹)\", data = flight_df)"
   ]
  },
  {
   "cell_type": "markdown",
   "id": "f0c392fd",
   "metadata": {},
   "source": [
    "## Label Encoding"
   ]
  },
  {
   "cell_type": "code",
   "execution_count": 81,
   "id": "452ad0f2",
   "metadata": {},
   "outputs": [],
   "source": [
    "from sklearn.preprocessing import LabelEncoder\n",
    "\n",
    "le = LabelEncoder()\n",
    "\n",
    "flight_df[\"Airline\"] = le.fit_transform(flight_df[\"Airline\"])\n",
    "flight_df[\"Source\"] = le.fit_transform(flight_df[\"Source\"])\n",
    "flight_df[\"Destination\"] = le.fit_transform(flight_df[\"Destination\"])"
   ]
  },
  {
   "cell_type": "code",
   "execution_count": 82,
   "id": "cbd59686",
   "metadata": {},
   "outputs": [
    {
     "data": {
      "text/html": [
       "<div>\n",
       "<style scoped>\n",
       "    .dataframe tbody tr th:only-of-type {\n",
       "        vertical-align: middle;\n",
       "    }\n",
       "\n",
       "    .dataframe tbody tr th {\n",
       "        vertical-align: top;\n",
       "    }\n",
       "\n",
       "    .dataframe thead th {\n",
       "        text-align: right;\n",
       "    }\n",
       "</style>\n",
       "<table border=\"1\" class=\"dataframe\">\n",
       "  <thead>\n",
       "    <tr style=\"text-align: right;\">\n",
       "      <th></th>\n",
       "      <th>Airline</th>\n",
       "      <th>Source</th>\n",
       "      <th>Destination</th>\n",
       "      <th>Total_Stops</th>\n",
       "      <th>Price (in ₹)</th>\n",
       "      <th>Dep_hour</th>\n",
       "      <th>Dep_min</th>\n",
       "      <th>Arrival_hour</th>\n",
       "      <th>Arrival_min</th>\n",
       "      <th>Duration_hours</th>\n",
       "      <th>Duration_Min</th>\n",
       "    </tr>\n",
       "  </thead>\n",
       "  <tbody>\n",
       "    <tr>\n",
       "      <th>0</th>\n",
       "      <td>1</td>\n",
       "      <td>5</td>\n",
       "      <td>13</td>\n",
       "      <td>0</td>\n",
       "      <td>4065</td>\n",
       "      <td>7</td>\n",
       "      <td>0</td>\n",
       "      <td>9</td>\n",
       "      <td>5</td>\n",
       "      <td>2</td>\n",
       "      <td>2</td>\n",
       "    </tr>\n",
       "    <tr>\n",
       "      <th>1</th>\n",
       "      <td>1</td>\n",
       "      <td>5</td>\n",
       "      <td>13</td>\n",
       "      <td>0</td>\n",
       "      <td>4065</td>\n",
       "      <td>8</td>\n",
       "      <td>0</td>\n",
       "      <td>10</td>\n",
       "      <td>10</td>\n",
       "      <td>2</td>\n",
       "      <td>2</td>\n",
       "    </tr>\n",
       "    <tr>\n",
       "      <th>2</th>\n",
       "      <td>1</td>\n",
       "      <td>5</td>\n",
       "      <td>13</td>\n",
       "      <td>0</td>\n",
       "      <td>4065</td>\n",
       "      <td>9</td>\n",
       "      <td>0</td>\n",
       "      <td>11</td>\n",
       "      <td>15</td>\n",
       "      <td>2</td>\n",
       "      <td>2</td>\n",
       "    </tr>\n",
       "    <tr>\n",
       "      <th>3</th>\n",
       "      <td>1</td>\n",
       "      <td>5</td>\n",
       "      <td>13</td>\n",
       "      <td>0</td>\n",
       "      <td>4065</td>\n",
       "      <td>14</td>\n",
       "      <td>0</td>\n",
       "      <td>16</td>\n",
       "      <td>15</td>\n",
       "      <td>2</td>\n",
       "      <td>2</td>\n",
       "    </tr>\n",
       "    <tr>\n",
       "      <th>4</th>\n",
       "      <td>1</td>\n",
       "      <td>5</td>\n",
       "      <td>13</td>\n",
       "      <td>0</td>\n",
       "      <td>4065</td>\n",
       "      <td>21</td>\n",
       "      <td>15</td>\n",
       "      <td>23</td>\n",
       "      <td>35</td>\n",
       "      <td>2</td>\n",
       "      <td>2</td>\n",
       "    </tr>\n",
       "  </tbody>\n",
       "</table>\n",
       "</div>"
      ],
      "text/plain": [
       "   Airline  Source  Destination  Total_Stops  Price (in ₹)  Dep_hour  Dep_min  \\\n",
       "0        1       5           13            0          4065         7        0   \n",
       "1        1       5           13            0          4065         8        0   \n",
       "2        1       5           13            0          4065         9        0   \n",
       "3        1       5           13            0          4065        14        0   \n",
       "4        1       5           13            0          4065        21       15   \n",
       "\n",
       "   Arrival_hour  Arrival_min  Duration_hours  Duration_Min  \n",
       "0             9            5               2             2  \n",
       "1            10           10               2             2  \n",
       "2            11           15               2             2  \n",
       "3            16           15               2             2  \n",
       "4            23           35               2             2  "
      ]
     },
     "execution_count": 82,
     "metadata": {},
     "output_type": "execute_result"
    }
   ],
   "source": [
    "flight_df.head()"
   ]
  },
  {
   "cell_type": "code",
   "execution_count": 83,
   "id": "f77e9819",
   "metadata": {},
   "outputs": [
    {
     "data": {
      "text/plain": [
       "<AxesSubplot:xlabel='Price (in ₹)', ylabel='Duration_hours'>"
      ]
     },
     "execution_count": 83,
     "metadata": {},
     "output_type": "execute_result"
    },
    {
     "data": {
      "image/png": "[encoded data removed]",
      "text/plain": [
       "<Figure size 432x288 with 1 Axes>"
      ]
     },
     "metadata": {},
     "output_type": "display_data"
    }
   ],
   "source": [
    "plt.figure(figsize=(6,4))\n",
    "sns.scatterplot(x =\"Price (in ₹)\", y = \"Duration_hours\" , data = flight_df)"
   ]
  },
  {
   "cell_type": "markdown",
   "id": "f7bb806d",
   "metadata": {},
   "source": [
    "## Correlation Map"
   ]
  },
  {
   "cell_type": "code",
   "execution_count": 84,
   "id": "cc8e6466",
   "metadata": {},
   "outputs": [
    {
     "data": {
      "text/html": [
       "<div>\n",
       "<style scoped>\n",
       "    .dataframe tbody tr th:only-of-type {\n",
       "        vertical-align: middle;\n",
       "    }\n",
       "\n",
       "    .dataframe tbody tr th {\n",
       "        vertical-align: top;\n",
       "    }\n",
       "\n",
       "    .dataframe thead th {\n",
       "        text-align: right;\n",
       "    }\n",
       "</style>\n",
       "<table border=\"1\" class=\"dataframe\">\n",
       "  <thead>\n",
       "    <tr style=\"text-align: right;\">\n",
       "      <th></th>\n",
       "      <th>Airline</th>\n",
       "      <th>Source</th>\n",
       "      <th>Destination</th>\n",
       "      <th>Total_Stops</th>\n",
       "      <th>Price (in ₹)</th>\n",
       "      <th>Dep_hour</th>\n",
       "      <th>Dep_min</th>\n",
       "      <th>Arrival_hour</th>\n",
       "      <th>Arrival_min</th>\n",
       "      <th>Duration_hours</th>\n",
       "      <th>Duration_Min</th>\n",
       "    </tr>\n",
       "  </thead>\n",
       "  <tbody>\n",
       "    <tr>\n",
       "      <th>Airline</th>\n",
       "      <td>1.000000</td>\n",
       "      <td>0.079400</td>\n",
       "      <td>0.067949</td>\n",
       "      <td>-0.092646</td>\n",
       "      <td>0.026869</td>\n",
       "      <td>0.023090</td>\n",
       "      <td>0.039524</td>\n",
       "      <td>-0.016428</td>\n",
       "      <td>0.113515</td>\n",
       "      <td>-0.069039</td>\n",
       "      <td>-0.069039</td>\n",
       "    </tr>\n",
       "    <tr>\n",
       "      <th>Source</th>\n",
       "      <td>0.079400</td>\n",
       "      <td>1.000000</td>\n",
       "      <td>0.052026</td>\n",
       "      <td>0.041652</td>\n",
       "      <td>0.015402</td>\n",
       "      <td>-0.074961</td>\n",
       "      <td>-0.036914</td>\n",
       "      <td>-0.035666</td>\n",
       "      <td>0.012360</td>\n",
       "      <td>0.089344</td>\n",
       "      <td>0.089344</td>\n",
       "    </tr>\n",
       "    <tr>\n",
       "      <th>Destination</th>\n",
       "      <td>0.067949</td>\n",
       "      <td>0.052026</td>\n",
       "      <td>1.000000</td>\n",
       "      <td>-0.060159</td>\n",
       "      <td>-0.124848</td>\n",
       "      <td>-0.035203</td>\n",
       "      <td>0.047768</td>\n",
       "      <td>-0.040378</td>\n",
       "      <td>0.057803</td>\n",
       "      <td>-0.001285</td>\n",
       "      <td>-0.001285</td>\n",
       "    </tr>\n",
       "    <tr>\n",
       "      <th>Total_Stops</th>\n",
       "      <td>-0.092646</td>\n",
       "      <td>0.041652</td>\n",
       "      <td>-0.060159</td>\n",
       "      <td>1.000000</td>\n",
       "      <td>0.688470</td>\n",
       "      <td>-0.340888</td>\n",
       "      <td>0.014895</td>\n",
       "      <td>0.097664</td>\n",
       "      <td>-0.027793</td>\n",
       "      <td>0.888334</td>\n",
       "      <td>0.888334</td>\n",
       "    </tr>\n",
       "    <tr>\n",
       "      <th>Price (in ₹)</th>\n",
       "      <td>0.026869</td>\n",
       "      <td>0.015402</td>\n",
       "      <td>-0.124848</td>\n",
       "      <td>0.688470</td>\n",
       "      <td>1.000000</td>\n",
       "      <td>-0.283668</td>\n",
       "      <td>0.016823</td>\n",
       "      <td>0.058745</td>\n",
       "      <td>-0.064537</td>\n",
       "      <td>0.689016</td>\n",
       "      <td>0.689016</td>\n",
       "    </tr>\n",
       "    <tr>\n",
       "      <th>Dep_hour</th>\n",
       "      <td>0.023090</td>\n",
       "      <td>-0.074961</td>\n",
       "      <td>-0.035203</td>\n",
       "      <td>-0.340888</td>\n",
       "      <td>-0.283668</td>\n",
       "      <td>1.000000</td>\n",
       "      <td>-0.068881</td>\n",
       "      <td>0.874232</td>\n",
       "      <td>-0.008661</td>\n",
       "      <td>-0.384387</td>\n",
       "      <td>-0.384387</td>\n",
       "    </tr>\n",
       "    <tr>\n",
       "      <th>Dep_min</th>\n",
       "      <td>0.039524</td>\n",
       "      <td>-0.036914</td>\n",
       "      <td>0.047768</td>\n",
       "      <td>0.014895</td>\n",
       "      <td>0.016823</td>\n",
       "      <td>-0.068881</td>\n",
       "      <td>1.000000</td>\n",
       "      <td>-0.014996</td>\n",
       "      <td>0.014736</td>\n",
       "      <td>0.006837</td>\n",
       "      <td>0.006837</td>\n",
       "    </tr>\n",
       "    <tr>\n",
       "      <th>Arrival_hour</th>\n",
       "      <td>-0.016428</td>\n",
       "      <td>-0.035666</td>\n",
       "      <td>-0.040378</td>\n",
       "      <td>0.097664</td>\n",
       "      <td>0.058745</td>\n",
       "      <td>0.874232</td>\n",
       "      <td>-0.014996</td>\n",
       "      <td>1.000000</td>\n",
       "      <td>-0.082253</td>\n",
       "      <td>0.104054</td>\n",
       "      <td>0.104054</td>\n",
       "    </tr>\n",
       "    <tr>\n",
       "      <th>Arrival_min</th>\n",
       "      <td>0.113515</td>\n",
       "      <td>0.012360</td>\n",
       "      <td>0.057803</td>\n",
       "      <td>-0.027793</td>\n",
       "      <td>-0.064537</td>\n",
       "      <td>-0.008661</td>\n",
       "      <td>0.014736</td>\n",
       "      <td>-0.082253</td>\n",
       "      <td>1.000000</td>\n",
       "      <td>-0.044589</td>\n",
       "      <td>-0.044589</td>\n",
       "    </tr>\n",
       "    <tr>\n",
       "      <th>Duration_hours</th>\n",
       "      <td>-0.069039</td>\n",
       "      <td>0.089344</td>\n",
       "      <td>-0.001285</td>\n",
       "      <td>0.888334</td>\n",
       "      <td>0.689016</td>\n",
       "      <td>-0.384387</td>\n",
       "      <td>0.006837</td>\n",
       "      <td>0.104054</td>\n",
       "      <td>-0.044589</td>\n",
       "      <td>1.000000</td>\n",
       "      <td>1.000000</td>\n",
       "    </tr>\n",
       "    <tr>\n",
       "      <th>Duration_Min</th>\n",
       "      <td>-0.069039</td>\n",
       "      <td>0.089344</td>\n",
       "      <td>-0.001285</td>\n",
       "      <td>0.888334</td>\n",
       "      <td>0.689016</td>\n",
       "      <td>-0.384387</td>\n",
       "      <td>0.006837</td>\n",
       "      <td>0.104054</td>\n",
       "      <td>-0.044589</td>\n",
       "      <td>1.000000</td>\n",
       "      <td>1.000000</td>\n",
       "    </tr>\n",
       "  </tbody>\n",
       "</table>\n",
       "</div>"
      ],
      "text/plain": [
       "                 Airline    Source  Destination  Total_Stops  Price (in ₹)  \\\n",
       "Airline         1.000000  0.079400     0.067949    -0.092646      0.026869   \n",
       "Source          0.079400  1.000000     0.052026     0.041652      0.015402   \n",
       "Destination     0.067949  0.052026     1.000000    -0.060159     -0.124848   \n",
       "Total_Stops    -0.092646  0.041652    -0.060159     1.000000      0.688470   \n",
       "Price (in ₹)    0.026869  0.015402    -0.124848     0.688470      1.000000   \n",
       "Dep_hour        0.023090 -0.074961    -0.035203    -0.340888     -0.283668   \n",
       "Dep_min         0.039524 -0.036914     0.047768     0.014895      0.016823   \n",
       "Arrival_hour   -0.016428 -0.035666    -0.040378     0.097664      0.058745   \n",
       "Arrival_min     0.113515  0.012360     0.057803    -0.027793     -0.064537   \n",
       "Duration_hours -0.069039  0.089344    -0.001285     0.888334      0.689016   \n",
       "Duration_Min   -0.069039  0.089344    -0.001285     0.888334      0.689016   \n",
       "\n",
       "                Dep_hour   Dep_min  Arrival_hour  Arrival_min  Duration_hours  \\\n",
       "Airline         0.023090  0.039524     -0.016428     0.113515       -0.069039   \n",
       "Source         -0.074961 -0.036914     -0.035666     0.012360        0.089344   \n",
       "Destination    -0.035203  0.047768     -0.040378     0.057803       -0.001285   \n",
       "Total_Stops    -0.340888  0.014895      0.097664    -0.027793        0.888334   \n",
       "Price (in ₹)   -0.283668  0.016823      0.058745    -0.064537        0.689016   \n",
       "Dep_hour        1.000000 -0.068881      0.874232    -0.008661       -0.384387   \n",
       "Dep_min        -0.068881  1.000000     -0.014996     0.014736        0.006837   \n",
       "Arrival_hour    0.874232 -0.014996      1.000000    -0.082253        0.104054   \n",
       "Arrival_min    -0.008661  0.014736     -0.082253     1.000000       -0.044589   \n",
       "Duration_hours -0.384387  0.006837      0.104054    -0.044589        1.000000   \n",
       "Duration_Min   -0.384387  0.006837      0.104054    -0.044589        1.000000   \n",
       "\n",
       "                Duration_Min  \n",
       "Airline            -0.069039  \n",
       "Source              0.089344  \n",
       "Destination        -0.001285  \n",
       "Total_Stops         0.888334  \n",
       "Price (in ₹)        0.689016  \n",
       "Dep_hour           -0.384387  \n",
       "Dep_min             0.006837  \n",
       "Arrival_hour        0.104054  \n",
       "Arrival_min        -0.044589  \n",
       "Duration_hours      1.000000  \n",
       "Duration_Min        1.000000  "
      ]
     },
     "execution_count": 84,
     "metadata": {},
     "output_type": "execute_result"
    }
   ],
   "source": [
    "flight_df.corr()"
   ]
  },
  {
   "cell_type": "code",
   "execution_count": 85,
   "id": "cb69b77c",
   "metadata": {},
   "outputs": [
    {
     "data": {
      "text/plain": [
       "<AxesSubplot:>"
      ]
     },
     "execution_count": 85,
     "metadata": {},
     "output_type": "execute_result"
    },
    {
     "data": {
      "image/png": "[encoded data removed]",
      "text/plain": [
       "<Figure size 720x432 with 2 Axes>"
      ]
     },
     "metadata": {},
     "output_type": "display_data"
    }
   ],
   "source": [
    "plt.figure(figsize =(10,6))\n",
    "sns.heatmap(flight_df.corr(),annot= True, cmap = \"afmhot_r\")"
   ]
  },
  {
   "cell_type": "markdown",
   "id": "75c44465",
   "metadata": {},
   "source": [
    "**Conclusion:**\n",
    "\n",
    "1. Total_stops ,Duration Minutes and Duration_hours have positive correlation with Target column. \n",
    "2. Total_stops and Duration hours are also correlation but we will keep the same in the dataset because there are only two which reflect maximum variance.\n"
   ]
  },
  {
   "cell_type": "markdown",
   "id": "5d397572",
   "metadata": {},
   "source": [
    "## Check For Skewness"
   ]
  },
  {
   "cell_type": "code",
   "execution_count": 86,
   "id": "90cd532c",
   "metadata": {},
   "outputs": [
    {
     "data": {
      "text/html": [
       "<div>\n",
       "<style scoped>\n",
       "    .dataframe tbody tr th:only-of-type {\n",
       "        vertical-align: middle;\n",
       "    }\n",
       "\n",
       "    .dataframe tbody tr th {\n",
       "        vertical-align: top;\n",
       "    }\n",
       "\n",
       "    .dataframe thead th {\n",
       "        text-align: right;\n",
       "    }\n",
       "</style>\n",
       "<table border=\"1\" class=\"dataframe\">\n",
       "  <thead>\n",
       "    <tr style=\"text-align: right;\">\n",
       "      <th></th>\n",
       "      <th>Airline</th>\n",
       "      <th>Source</th>\n",
       "      <th>Destination</th>\n",
       "      <th>Total_Stops</th>\n",
       "      <th>Dep_hour</th>\n",
       "      <th>Dep_min</th>\n",
       "      <th>Arrival_hour</th>\n",
       "      <th>Arrival_min</th>\n",
       "      <th>Duration_hours</th>\n",
       "      <th>Duration_Min</th>\n",
       "    </tr>\n",
       "  </thead>\n",
       "  <tbody>\n",
       "    <tr>\n",
       "      <th>0</th>\n",
       "      <td>1</td>\n",
       "      <td>5</td>\n",
       "      <td>13</td>\n",
       "      <td>0</td>\n",
       "      <td>7</td>\n",
       "      <td>0</td>\n",
       "      <td>9</td>\n",
       "      <td>5</td>\n",
       "      <td>2</td>\n",
       "      <td>2</td>\n",
       "    </tr>\n",
       "    <tr>\n",
       "      <th>1</th>\n",
       "      <td>1</td>\n",
       "      <td>5</td>\n",
       "      <td>13</td>\n",
       "      <td>0</td>\n",
       "      <td>8</td>\n",
       "      <td>0</td>\n",
       "      <td>10</td>\n",
       "      <td>10</td>\n",
       "      <td>2</td>\n",
       "      <td>2</td>\n",
       "    </tr>\n",
       "    <tr>\n",
       "      <th>2</th>\n",
       "      <td>1</td>\n",
       "      <td>5</td>\n",
       "      <td>13</td>\n",
       "      <td>0</td>\n",
       "      <td>9</td>\n",
       "      <td>0</td>\n",
       "      <td>11</td>\n",
       "      <td>15</td>\n",
       "      <td>2</td>\n",
       "      <td>2</td>\n",
       "    </tr>\n",
       "    <tr>\n",
       "      <th>3</th>\n",
       "      <td>1</td>\n",
       "      <td>5</td>\n",
       "      <td>13</td>\n",
       "      <td>0</td>\n",
       "      <td>14</td>\n",
       "      <td>0</td>\n",
       "      <td>16</td>\n",
       "      <td>15</td>\n",
       "      <td>2</td>\n",
       "      <td>2</td>\n",
       "    </tr>\n",
       "    <tr>\n",
       "      <th>4</th>\n",
       "      <td>1</td>\n",
       "      <td>5</td>\n",
       "      <td>13</td>\n",
       "      <td>0</td>\n",
       "      <td>21</td>\n",
       "      <td>15</td>\n",
       "      <td>23</td>\n",
       "      <td>35</td>\n",
       "      <td>2</td>\n",
       "      <td>2</td>\n",
       "    </tr>\n",
       "    <tr>\n",
       "      <th>...</th>\n",
       "      <td>...</td>\n",
       "      <td>...</td>\n",
       "      <td>...</td>\n",
       "      <td>...</td>\n",
       "      <td>...</td>\n",
       "      <td>...</td>\n",
       "      <td>...</td>\n",
       "      <td>...</td>\n",
       "      <td>...</td>\n",
       "      <td>...</td>\n",
       "    </tr>\n",
       "    <tr>\n",
       "      <th>1943</th>\n",
       "      <td>5</td>\n",
       "      <td>3</td>\n",
       "      <td>1</td>\n",
       "      <td>0</td>\n",
       "      <td>12</td>\n",
       "      <td>30</td>\n",
       "      <td>13</td>\n",
       "      <td>45</td>\n",
       "      <td>1</td>\n",
       "      <td>1</td>\n",
       "    </tr>\n",
       "    <tr>\n",
       "      <th>1944</th>\n",
       "      <td>4</td>\n",
       "      <td>3</td>\n",
       "      <td>17</td>\n",
       "      <td>0</td>\n",
       "      <td>10</td>\n",
       "      <td>20</td>\n",
       "      <td>13</td>\n",
       "      <td>5</td>\n",
       "      <td>2</td>\n",
       "      <td>2</td>\n",
       "    </tr>\n",
       "    <tr>\n",
       "      <th>1945</th>\n",
       "      <td>5</td>\n",
       "      <td>3</td>\n",
       "      <td>17</td>\n",
       "      <td>0</td>\n",
       "      <td>21</td>\n",
       "      <td>5</td>\n",
       "      <td>23</td>\n",
       "      <td>40</td>\n",
       "      <td>2</td>\n",
       "      <td>2</td>\n",
       "    </tr>\n",
       "    <tr>\n",
       "      <th>1946</th>\n",
       "      <td>5</td>\n",
       "      <td>3</td>\n",
       "      <td>17</td>\n",
       "      <td>1</td>\n",
       "      <td>9</td>\n",
       "      <td>15</td>\n",
       "      <td>13</td>\n",
       "      <td>10</td>\n",
       "      <td>3</td>\n",
       "      <td>3</td>\n",
       "    </tr>\n",
       "    <tr>\n",
       "      <th>1947</th>\n",
       "      <td>4</td>\n",
       "      <td>3</td>\n",
       "      <td>17</td>\n",
       "      <td>1</td>\n",
       "      <td>9</td>\n",
       "      <td>30</td>\n",
       "      <td>19</td>\n",
       "      <td>5</td>\n",
       "      <td>9</td>\n",
       "      <td>9</td>\n",
       "    </tr>\n",
       "  </tbody>\n",
       "</table>\n",
       "<p>1948 rows × 10 columns</p>\n",
       "</div>"
      ],
      "text/plain": [
       "      Airline  Source  Destination  Total_Stops  Dep_hour  Dep_min  \\\n",
       "0           1       5           13            0         7        0   \n",
       "1           1       5           13            0         8        0   \n",
       "2           1       5           13            0         9        0   \n",
       "3           1       5           13            0        14        0   \n",
       "4           1       5           13            0        21       15   \n",
       "...       ...     ...          ...          ...       ...      ...   \n",
       "1943        5       3            1            0        12       30   \n",
       "1944        4       3           17            0        10       20   \n",
       "1945        5       3           17            0        21        5   \n",
       "1946        5       3           17            1         9       15   \n",
       "1947        4       3           17            1         9       30   \n",
       "\n",
       "      Arrival_hour  Arrival_min  Duration_hours  Duration_Min  \n",
       "0                9            5               2             2  \n",
       "1               10           10               2             2  \n",
       "2               11           15               2             2  \n",
       "3               16           15               2             2  \n",
       "4               23           35               2             2  \n",
       "...            ...          ...             ...           ...  \n",
       "1943            13           45               1             1  \n",
       "1944            13            5               2             2  \n",
       "1945            23           40               2             2  \n",
       "1946            13           10               3             3  \n",
       "1947            19            5               9             9  \n",
       "\n",
       "[1948 rows x 10 columns]"
      ]
     },
     "execution_count": 86,
     "metadata": {},
     "output_type": "execute_result"
    }
   ],
   "source": [
    "x=flight_df.drop('Price (in ₹)', axis=1)\n",
    "y=flight_df['Price (in ₹)']\n",
    "x"
   ]
  },
  {
   "cell_type": "code",
   "execution_count": 87,
   "id": "687b3130",
   "metadata": {},
   "outputs": [
    {
     "data": {
      "text/plain": [
       "Duration_hours    1.625229\n",
       "Duration_Min      1.625229\n",
       "Total_Stops       1.362949\n",
       "Destination       0.302640\n",
       "Dep_hour          0.170535\n",
       "Arrival_min       0.031550\n",
       "Dep_min          -0.006688\n",
       "Arrival_hour     -0.081766\n",
       "Source           -0.321417\n",
       "Airline          -0.781667\n",
       "dtype: float64"
      ]
     },
     "execution_count": 87,
     "metadata": {},
     "output_type": "execute_result"
    }
   ],
   "source": [
    "# Cheking Skewness\n",
    "x.skew().sort_values(ascending=False)"
   ]
  },
  {
   "cell_type": "code",
   "execution_count": 88,
   "id": "7d8ab3e6",
   "metadata": {},
   "outputs": [],
   "source": [
    "from sklearn.preprocessing import power_transform\n",
    "x_new=power_transform(x)"
   ]
  },
  {
   "cell_type": "code",
   "execution_count": 89,
   "id": "4bd42740",
   "metadata": {},
   "outputs": [
    {
     "data": {
      "text/plain": [
       "numpy.ndarray"
      ]
     },
     "execution_count": 89,
     "metadata": {},
     "output_type": "execute_result"
    }
   ],
   "source": [
    "type(x_new)"
   ]
  },
  {
   "cell_type": "code",
   "execution_count": 90,
   "id": "896d1bde",
   "metadata": {},
   "outputs": [
    {
     "data": {
      "text/plain": [
       "Index(['Airline', 'Source', 'Destination', 'Total_Stops', 'Dep_hour',\n",
       "       'Dep_min', 'Arrival_hour', 'Arrival_min', 'Duration_hours',\n",
       "       'Duration_Min'],\n",
       "      dtype='object')"
      ]
     },
     "execution_count": 90,
     "metadata": {},
     "output_type": "execute_result"
    }
   ],
   "source": [
    "x.columns"
   ]
  },
  {
   "cell_type": "code",
   "execution_count": 91,
   "id": "7ddee590",
   "metadata": {},
   "outputs": [
    {
     "data": {
      "text/html": [
       "<div>\n",
       "<style scoped>\n",
       "    .dataframe tbody tr th:only-of-type {\n",
       "        vertical-align: middle;\n",
       "    }\n",
       "\n",
       "    .dataframe tbody tr th {\n",
       "        vertical-align: top;\n",
       "    }\n",
       "\n",
       "    .dataframe thead th {\n",
       "        text-align: right;\n",
       "    }\n",
       "</style>\n",
       "<table border=\"1\" class=\"dataframe\">\n",
       "  <thead>\n",
       "    <tr style=\"text-align: right;\">\n",
       "      <th></th>\n",
       "      <th>Airline</th>\n",
       "      <th>Source</th>\n",
       "      <th>Destination</th>\n",
       "      <th>Total_Stops</th>\n",
       "      <th>Dep_hour</th>\n",
       "      <th>Dep_min</th>\n",
       "      <th>Arrival_hour</th>\n",
       "      <th>Arrival_min</th>\n",
       "      <th>Duration_hours</th>\n",
       "      <th>Duration_Min</th>\n",
       "    </tr>\n",
       "  </thead>\n",
       "  <tbody>\n",
       "    <tr>\n",
       "      <th>0</th>\n",
       "      <td>-1.394812</td>\n",
       "      <td>1.041147</td>\n",
       "      <td>0.764555</td>\n",
       "      <td>-0.579711</td>\n",
       "      <td>-0.668123</td>\n",
       "      <td>-1.753910</td>\n",
       "      <td>-1.026126</td>\n",
       "      <td>-1.489669</td>\n",
       "      <td>0.049042</td>\n",
       "      <td>0.049042</td>\n",
       "    </tr>\n",
       "    <tr>\n",
       "      <th>1</th>\n",
       "      <td>-1.394812</td>\n",
       "      <td>1.041147</td>\n",
       "      <td>0.764555</td>\n",
       "      <td>-0.579711</td>\n",
       "      <td>-0.479080</td>\n",
       "      <td>-1.753910</td>\n",
       "      <td>-0.832771</td>\n",
       "      <td>-1.084149</td>\n",
       "      <td>0.049042</td>\n",
       "      <td>0.049042</td>\n",
       "    </tr>\n",
       "    <tr>\n",
       "      <th>2</th>\n",
       "      <td>-1.394812</td>\n",
       "      <td>1.041147</td>\n",
       "      <td>0.764555</td>\n",
       "      <td>-0.579711</td>\n",
       "      <td>-0.295993</td>\n",
       "      <td>-1.753910</td>\n",
       "      <td>-0.640669</td>\n",
       "      <td>-0.730345</td>\n",
       "      <td>0.049042</td>\n",
       "      <td>0.049042</td>\n",
       "    </tr>\n",
       "    <tr>\n",
       "      <th>3</th>\n",
       "      <td>-1.394812</td>\n",
       "      <td>1.041147</td>\n",
       "      <td>0.764555</td>\n",
       "      <td>-0.579711</td>\n",
       "      <td>0.551963</td>\n",
       "      <td>-1.753910</td>\n",
       "      <td>0.304415</td>\n",
       "      <td>-0.730345</td>\n",
       "      <td>0.049042</td>\n",
       "      <td>0.049042</td>\n",
       "    </tr>\n",
       "    <tr>\n",
       "      <th>4</th>\n",
       "      <td>-1.394812</td>\n",
       "      <td>1.041147</td>\n",
       "      <td>0.764555</td>\n",
       "      <td>-0.579711</td>\n",
       "      <td>1.612285</td>\n",
       "      <td>-0.504946</td>\n",
       "      <td>1.595214</td>\n",
       "      <td>0.450538</td>\n",
       "      <td>0.049042</td>\n",
       "      <td>0.049042</td>\n",
       "    </tr>\n",
       "    <tr>\n",
       "      <th>...</th>\n",
       "      <td>...</td>\n",
       "      <td>...</td>\n",
       "      <td>...</td>\n",
       "      <td>...</td>\n",
       "      <td>...</td>\n",
       "      <td>...</td>\n",
       "      <td>...</td>\n",
       "      <td>...</td>\n",
       "      <td>...</td>\n",
       "      <td>...</td>\n",
       "    </tr>\n",
       "    <tr>\n",
       "      <th>1943</th>\n",
       "      <td>0.318665</td>\n",
       "      <td>-0.033124</td>\n",
       "      <td>-1.634581</td>\n",
       "      <td>-0.579711</td>\n",
       "      <td>0.224370</td>\n",
       "      <td>0.314670</td>\n",
       "      <td>-0.259794</td>\n",
       "      <td>0.963986</td>\n",
       "      <td>-1.044356</td>\n",
       "      <td>-1.044356</td>\n",
       "    </tr>\n",
       "    <tr>\n",
       "      <th>1944</th>\n",
       "      <td>-0.171628</td>\n",
       "      <td>-0.033124</td>\n",
       "      <td>1.290541</td>\n",
       "      <td>-0.579711</td>\n",
       "      <td>-0.118106</td>\n",
       "      <td>-0.210862</td>\n",
       "      <td>-0.259794</td>\n",
       "      <td>-1.489669</td>\n",
       "      <td>0.049042</td>\n",
       "      <td>0.049042</td>\n",
       "    </tr>\n",
       "    <tr>\n",
       "      <th>1945</th>\n",
       "      <td>0.318665</td>\n",
       "      <td>-0.033124</td>\n",
       "      <td>1.290541</td>\n",
       "      <td>-0.579711</td>\n",
       "      <td>1.612285</td>\n",
       "      <td>-1.215818</td>\n",
       "      <td>1.595214</td>\n",
       "      <td>0.711777</td>\n",
       "      <td>0.049042</td>\n",
       "      <td>0.049042</td>\n",
       "    </tr>\n",
       "    <tr>\n",
       "      <th>1946</th>\n",
       "      <td>0.318665</td>\n",
       "      <td>-0.033124</td>\n",
       "      <td>1.290541</td>\n",
       "      <td>1.722724</td>\n",
       "      <td>-0.295993</td>\n",
       "      <td>-0.504946</td>\n",
       "      <td>-0.259794</td>\n",
       "      <td>-1.084149</td>\n",
       "      <td>0.611479</td>\n",
       "      <td>0.611479</td>\n",
       "    </tr>\n",
       "    <tr>\n",
       "      <th>1947</th>\n",
       "      <td>-0.171628</td>\n",
       "      <td>-0.033124</td>\n",
       "      <td>1.290541</td>\n",
       "      <td>1.722724</td>\n",
       "      <td>-0.295993</td>\n",
       "      <td>0.314670</td>\n",
       "      <td>0.861522</td>\n",
       "      <td>-1.489669</td>\n",
       "      <td>1.668974</td>\n",
       "      <td>1.668974</td>\n",
       "    </tr>\n",
       "  </tbody>\n",
       "</table>\n",
       "<p>1948 rows × 10 columns</p>\n",
       "</div>"
      ],
      "text/plain": [
       "       Airline    Source  Destination  Total_Stops  Dep_hour   Dep_min  \\\n",
       "0    -1.394812  1.041147     0.764555    -0.579711 -0.668123 -1.753910   \n",
       "1    -1.394812  1.041147     0.764555    -0.579711 -0.479080 -1.753910   \n",
       "2    -1.394812  1.041147     0.764555    -0.579711 -0.295993 -1.753910   \n",
       "3    -1.394812  1.041147     0.764555    -0.579711  0.551963 -1.753910   \n",
       "4    -1.394812  1.041147     0.764555    -0.579711  1.612285 -0.504946   \n",
       "...        ...       ...          ...          ...       ...       ...   \n",
       "1943  0.318665 -0.033124    -1.634581    -0.579711  0.224370  0.314670   \n",
       "1944 -0.171628 -0.033124     1.290541    -0.579711 -0.118106 -0.210862   \n",
       "1945  0.318665 -0.033124     1.290541    -0.579711  1.612285 -1.215818   \n",
       "1946  0.318665 -0.033124     1.290541     1.722724 -0.295993 -0.504946   \n",
       "1947 -0.171628 -0.033124     1.290541     1.722724 -0.295993  0.314670   \n",
       "\n",
       "      Arrival_hour  Arrival_min  Duration_hours  Duration_Min  \n",
       "0        -1.026126    -1.489669        0.049042      0.049042  \n",
       "1        -0.832771    -1.084149        0.049042      0.049042  \n",
       "2        -0.640669    -0.730345        0.049042      0.049042  \n",
       "3         0.304415    -0.730345        0.049042      0.049042  \n",
       "4         1.595214     0.450538        0.049042      0.049042  \n",
       "...            ...          ...             ...           ...  \n",
       "1943     -0.259794     0.963986       -1.044356     -1.044356  \n",
       "1944     -0.259794    -1.489669        0.049042      0.049042  \n",
       "1945      1.595214     0.711777        0.049042      0.049042  \n",
       "1946     -0.259794    -1.084149        0.611479      0.611479  \n",
       "1947      0.861522    -1.489669        1.668974      1.668974  \n",
       "\n",
       "[1948 rows x 10 columns]"
      ]
     },
     "execution_count": 91,
     "metadata": {},
     "output_type": "execute_result"
    }
   ],
   "source": [
    "x=pd.DataFrame(x_new, columns=x.columns)\n",
    "x"
   ]
  },
  {
   "cell_type": "code",
   "execution_count": 92,
   "id": "74d90bdb",
   "metadata": {},
   "outputs": [
    {
     "data": {
      "text/plain": [
       "Total_Stops       1.146249\n",
       "Duration_hours    0.126515\n",
       "Duration_Min      0.126515\n",
       "Dep_hour         -0.104519\n",
       "Arrival_hour     -0.122206\n",
       "Destination      -0.136892\n",
       "Arrival_min      -0.258910\n",
       "Source           -0.296870\n",
       "Dep_min          -0.389752\n",
       "Airline          -0.514544\n",
       "dtype: float64"
      ]
     },
     "execution_count": 92,
     "metadata": {},
     "output_type": "execute_result"
    }
   ],
   "source": [
    "# Again Cheking Skewness if it has been removed \n",
    "x.skew().sort_values(ascending=False)"
   ]
  },
  {
   "cell_type": "code",
   "execution_count": 93,
   "id": "5cbe2f54",
   "metadata": {},
   "outputs": [
    {
     "data": {
      "text/plain": [
       "True"
      ]
     },
     "execution_count": 93,
     "metadata": {},
     "output_type": "execute_result"
    }
   ],
   "source": [
    "x.skew()[np.abs(x.skew())<0.25].all()"
   ]
  },
  {
   "cell_type": "markdown",
   "id": "8a2f0bda",
   "metadata": {},
   "source": [
    "Skewness is removed."
   ]
  },
  {
   "cell_type": "markdown",
   "id": "d9d96f42",
   "metadata": {},
   "source": [
    "### Checking Outliers"
   ]
  },
  {
   "cell_type": "code",
   "execution_count": 95,
   "id": "73ae001f",
   "metadata": {},
   "outputs": [
    {
     "data": {
      "text/plain": [
       "Airline              AxesSubplot(0.125,0.536818;0.133621x0.343182)\n",
       "Source            AxesSubplot(0.285345,0.536818;0.133621x0.343182)\n",
       "Destination        AxesSubplot(0.44569,0.536818;0.133621x0.343182)\n",
       "Total_Stops       AxesSubplot(0.606034,0.536818;0.133621x0.343182)\n",
       "Dep_hour          AxesSubplot(0.766379,0.536818;0.133621x0.343182)\n",
       "Dep_min                 AxesSubplot(0.125,0.125;0.133621x0.343182)\n",
       "Arrival_hour         AxesSubplot(0.285345,0.125;0.133621x0.343182)\n",
       "Arrival_min           AxesSubplot(0.44569,0.125;0.133621x0.343182)\n",
       "Duration_hours       AxesSubplot(0.606034,0.125;0.133621x0.343182)\n",
       "Duration_Min         AxesSubplot(0.766379,0.125;0.133621x0.343182)\n",
       "dtype: object"
      ]
     },
     "execution_count": 95,
     "metadata": {},
     "output_type": "execute_result"
    },
    {
     "data": {
      "image/png": "[encoded data removed]",
      "text/plain": [
       "<Figure size 576x576 with 10 Axes>"
      ]
     },
     "metadata": {},
     "output_type": "display_data"
    }
   ],
   "source": [
    "x.plot(kind='box',subplots=True,layout=(2,5),figsize=(8,8))"
   ]
  },
  {
   "cell_type": "markdown",
   "id": "8a5e2ddf",
   "metadata": {},
   "source": [
    "# Features Scaling / Standard Scaler:"
   ]
  },
  {
   "cell_type": "code",
   "execution_count": 50,
   "id": "0130f0e9",
   "metadata": {},
   "outputs": [],
   "source": [
    "# Performing Standard scaler\n",
    "sc = StandardScaler()\n",
    "X = sc.fit_transform(x)"
   ]
  },
  {
   "cell_type": "code",
   "execution_count": 51,
   "id": "45745761",
   "metadata": {},
   "outputs": [
    {
     "data": {
      "text/plain": [
       "array([[-1.39481233,  1.04114663,  0.76455477, ..., -1.48966862,\n",
       "         0.04904176,  0.04904176],\n",
       "       [-1.39481233,  1.04114663,  0.76455477, ..., -1.08414886,\n",
       "         0.04904176,  0.04904176],\n",
       "       [-1.39481233,  1.04114663,  0.76455477, ..., -0.73034527,\n",
       "         0.04904176,  0.04904176],\n",
       "       ...,\n",
       "       [ 0.31866501, -0.03312358,  1.29054104, ...,  0.71177723,\n",
       "         0.04904176,  0.04904176],\n",
       "       [ 0.31866501, -0.03312358,  1.29054104, ..., -1.08414886,\n",
       "         0.61147925,  0.61147925],\n",
       "       [-0.17162813, -0.03312358,  1.29054104, ..., -1.48966862,\n",
       "         1.66897404,  1.66897404]])"
      ]
     },
     "execution_count": 51,
     "metadata": {},
     "output_type": "execute_result"
    }
   ],
   "source": [
    "X"
   ]
  },
  {
   "cell_type": "markdown",
   "id": "c40a98b6",
   "metadata": {},
   "source": [
    "## Finding Best Random State"
   ]
  },
  {
   "cell_type": "code",
   "execution_count": 52,
   "id": "6770ca78",
   "metadata": {},
   "outputs": [
    {
     "name": "stdout",
     "output_type": "stream",
     "text": [
      "Best score is 0.6494313332521702 on Random State 124\n"
     ]
    }
   ],
   "source": [
    "maxScore = 0\n",
    "maxRS = 0\n",
    "\n",
    "for i in range(1,300):\n",
    "    x_train,x_test,y_train,y_test=train_test_split(X,y,test_size=0.2,random_state=i)\n",
    "    lr = LinearRegression()\n",
    "    lr.fit(x_train,y_train)\n",
    "    pred_train = lr.predict(x_train)\n",
    "    pred_test = lr.predict(x_test)\n",
    "    acc=r2_score(y_test,pred_test)\n",
    "    if acc>maxScore:\n",
    "        maxScore=acc\n",
    "        maxRS=i\n",
    "print('Best score is',maxScore,'on Random State',maxRS)"
   ]
  },
  {
   "cell_type": "code",
   "execution_count": 53,
   "id": "236aaa6a",
   "metadata": {},
   "outputs": [
    {
     "name": "stdout",
     "output_type": "stream",
     "text": [
      "Train Score of LinearRegression() is: 0.5648093647501061\n",
      "r2_score 0.6494313332521702\n",
      "mean_squred_error 617187.0652469436\n",
      "RMSE 785.612541426716 \n",
      "\n",
      "Train Score of Lasso() is: 0.5647849750028762\n",
      "r2_score 0.6493976214073971\n",
      "mean_squred_error 617246.4160004853\n",
      "RMSE 785.6503140713974 \n",
      "\n",
      "Train Score of Ridge() is: 0.5648092779789935\n",
      "r2_score 0.6494509278223357\n",
      "mean_squred_error 617152.5683953927\n",
      "RMSE 785.5905857349569 \n",
      "\n",
      "Train Score of DecisionTreeRegressor() is: 0.9972975535231607\n",
      "r2_score 0.9923616711534731\n",
      "mean_squred_error 13447.516025641025\n",
      "RMSE 115.96342537904366 \n",
      "\n",
      "Train Score of KNeighborsRegressor() is: 0.9314382366095284\n",
      "r2_score 0.7978593093899049\n",
      "mean_squred_error 355874.9866666667\n",
      "RMSE 596.5525849970535 \n",
      "\n"
     ]
    }
   ],
   "source": [
    "model = [LinearRegression(),Lasso(alpha=1.0),Ridge(alpha=1.0),DecisionTreeRegressor(criterion='squared_error'),\n",
    "         KNeighborsRegressor()]\n",
    "for i in model:\n",
    "    X_train1,X_test1,y_train1,y_test1 = train_test_split(X,y, test_size = 0.2, random_state =maxRS)\n",
    "    i.fit(X_train1,y_train1)\n",
    "    pred = i.predict(X_test1)\n",
    "    print('Train Score of', i , 'is:' , i.score(X_train1,y_train1))\n",
    "    print(\"r2_score\", r2_score(y_test1, pred))\n",
    "    print(\"mean_squred_error\", mean_squared_error(y_test1, pred))\n",
    "    print(\"RMSE\", np.sqrt(mean_squared_error(y_test1, pred)),\"\\n\")"
   ]
  },
  {
   "cell_type": "markdown",
   "id": "5d76ba8d",
   "metadata": {},
   "source": [
    "### Conclusions:"
   ]
  },
  {
   "cell_type": "markdown",
   "id": "6efbee01",
   "metadata": {},
   "source": [
    "Have checked Multiple Model and their score also. I have found that DecisionTreeRegressor() is working well on the dataset and have given less RMSE score . Now i will check with ensemble method to boost up score."
   ]
  },
  {
   "cell_type": "markdown",
   "id": "a42972b1",
   "metadata": {},
   "source": [
    "## Using Ensemble Technique to boostup score"
   ]
  },
  {
   "cell_type": "markdown",
   "id": "8149e95a",
   "metadata": {},
   "source": [
    "### RandomForestRegressor"
   ]
  },
  {
   "cell_type": "code",
   "execution_count": 54,
   "id": "6f105aad",
   "metadata": {},
   "outputs": [
    {
     "name": "stdout",
     "output_type": "stream",
     "text": [
      "Train Score of RandomForestRegressor(random_state=124) is: 0.9957430019522039\n",
      "r2_score 0.9866703484841391\n",
      "mean_squred_error 23467.266986973325\n",
      "RMSE 153.19029664757923\n"
     ]
    }
   ],
   "source": [
    "from sklearn.ensemble import RandomForestRegressor\n",
    "\n",
    "rf=RandomForestRegressor(n_estimators=100,random_state=maxRS,criterion='squared_error', min_samples_split=2, min_samples_leaf=1)\n",
    "#RandomForestClassifier(100)---Default\n",
    "rf.fit(X_train1,y_train1)\n",
    "predrf=rf.predict(X_test1)\n",
    "print('Train Score of', rf , 'is:' , rf.score(X_train1,y_train1))\n",
    "print(\"r2_score\", r2_score(y_test1, predrf))\n",
    "print(\"mean_squred_error\", mean_squared_error(y_test1, predrf))\n",
    "print(\"RMSE\", np.sqrt(mean_squared_error(y_test1, predrf)))"
   ]
  },
  {
   "cell_type": "markdown",
   "id": "32a86bba",
   "metadata": {},
   "source": [
    "### AdaBoostRegressor"
   ]
  },
  {
   "cell_type": "code",
   "execution_count": 55,
   "id": "52c0f948",
   "metadata": {},
   "outputs": [
    {
     "name": "stdout",
     "output_type": "stream",
     "text": [
      "Train Score of AdaBoostRegressor(base_estimator=DecisionTreeRegressor(), random_state=124) is: 0.9961570396869603\n",
      "r2_score 0.9944539392101273\n",
      "mean_squred_error 9764.012894640458\n",
      "RMSE 98.81301986398583\n"
     ]
    }
   ],
   "source": [
    "from sklearn.ensemble import AdaBoostRegressor\n",
    "\n",
    "ABr=AdaBoostRegressor( base_estimator=DecisionTreeRegressor(),n_estimators=50,learning_rate=1.0,loss='linear',random_state=maxRS,)\n",
    "#RandomForestClassifier(50)---Default\n",
    "ABr.fit(X_train1,y_train1)\n",
    "predAbr=ABr.predict(X_test1)\n",
    "print('Train Score of', ABr , 'is:' , ABr.score(X_train1,y_train1))\n",
    "print(\"r2_score\", r2_score(y_test1, predAbr))\n",
    "print(\"mean_squred_error\", mean_squared_error(y_test1, predAbr))\n",
    "print(\"RMSE\", np.sqrt(mean_squared_error(y_test1, predAbr)))"
   ]
  },
  {
   "cell_type": "markdown",
   "id": "466a1ebe",
   "metadata": {},
   "source": [
    "### GradientBoostingRegressor"
   ]
  },
  {
   "cell_type": "code",
   "execution_count": 56,
   "id": "10f024b7",
   "metadata": {},
   "outputs": [
    {
     "name": "stdout",
     "output_type": "stream",
     "text": [
      "Train Score of GradientBoostingRegressor() is: 0.9135786715106335\n",
      "r2_score 0.9003430013998592\n",
      "mean_squred_error 175449.25240447314\n",
      "RMSE 418.8666284206384 \n",
      "\n"
     ]
    }
   ],
   "source": [
    "from sklearn.ensemble import GradientBoostingRegressor\n",
    "\n",
    "Gradient_Boost=GradientBoostingRegressor(n_estimators=100,loss='squared_error',learning_rate=0.1,criterion='friedman_mse', min_samples_split=2, min_samples_leaf=1)\n",
    "#GradientBoostingRegressor(100)---Default\n",
    "Gradient_Boost.fit(X_train1,y_train1)\n",
    "predgb=Gradient_Boost.predict(X_test1)\n",
    "print('Train Score of', Gradient_Boost , 'is:' , Gradient_Boost.score(X_train1,y_train1))\n",
    "print(\"r2_score\", r2_score(y_test1, predgb))\n",
    "print(\"mean_squred_error\", mean_squared_error(y_test1, predgb))\n",
    "print(\"RMSE\", np.sqrt(mean_squared_error(y_test1, predgb)),\"\\n\")"
   ]
  },
  {
   "cell_type": "markdown",
   "id": "224f7e85",
   "metadata": {},
   "source": [
    "## Hyper Parameter Tuning"
   ]
  },
  {
   "cell_type": "code",
   "execution_count": 57,
   "id": "a22e08a8",
   "metadata": {},
   "outputs": [
    {
     "name": "stdout",
     "output_type": "stream",
     "text": [
      "Fitting 5 folds for each of 10 candidates, totalling 50 fits\n",
      "{'random_state': 111, 'n_estimators': 50, 'loss': 'linear', 'learning_rate': 1}\n"
     ]
    }
   ],
   "source": [
    "Ada_Boost = AdaBoostRegressor()\n",
    "Para ={'n_estimators' : [50, 100, 150, 200],\n",
    "        'learning_rate' : [0.001, 0.01, 0.1, 1],\n",
    "        'loss' : [\"linear\", \"square\", \"exponential\"],\n",
    "        'random_state' : [21, 42, 104, 111]\n",
    "        }\n",
    "Ada_search = RandomizedSearchCV(Ada_Boost,Para,cv = 5,scoring = \"r2\",n_jobs =-1,verbose = 2) \n",
    "Ada_search.fit(X_train1,y_train1)\n",
    "print(Ada_search.best_params_)"
   ]
  },
  {
   "cell_type": "code",
   "execution_count": 58,
   "id": "3fde1428",
   "metadata": {},
   "outputs": [],
   "source": [
    "prediction = Ada_search.predict(X_test1)"
   ]
  },
  {
   "cell_type": "code",
   "execution_count": 59,
   "id": "dda2c700",
   "metadata": {},
   "outputs": [
    {
     "name": "stdout",
     "output_type": "stream",
     "text": [
      "R2_Score: 75.08080097429422\n",
      "RMSE value: 667.8138380332518\n"
     ]
    }
   ],
   "source": [
    "FlightPrice = AdaBoostRegressor(n_estimators= 50, loss= 'linear', learning_rate =1, random_state=111)\n",
    "FlightPrice.fit(x_train, y_train)\n",
    "pred = FlightPrice.predict(x_test)\n",
    "print('R2_Score:',r2_score(y_test,pred)*100)\n",
    "print(\"RMSE value:\",np.sqrt(mean_squared_error(y_test, pred)))"
   ]
  },
  {
   "cell_type": "markdown",
   "id": "a62951c3",
   "metadata": {},
   "source": [
    "### Plotting the residuals"
   ]
  },
  {
   "cell_type": "code",
   "execution_count": 62,
   "id": "6b526fe6",
   "metadata": {},
   "outputs": [
    {
     "data": {
      "image/png": "[encoded data removed]",
      "text/plain": [
       "<Figure size 288x288 with 1 Axes>"
      ]
     },
     "metadata": {},
     "output_type": "display_data"
    }
   ],
   "source": [
    "plt.figure(figsize = (4,4))\n",
    "sns.distplot(y_test1-prediction)\n",
    "plt.show()"
   ]
  },
  {
   "cell_type": "markdown",
   "id": "307b9e3c",
   "metadata": {},
   "source": [
    "## Cross Validation"
   ]
  },
  {
   "cell_type": "code",
   "execution_count": 63,
   "id": "0c2aafd3",
   "metadata": {},
   "outputs": [
    {
     "name": "stdout",
     "output_type": "stream",
     "text": [
      "2 mean 0.7079885311697873 and STD 0.03750158080833105\n",
      "3 mean 0.6896722276958461 and STD 0.08054815896823123\n",
      "4 mean 0.6978318289655345 and STD 0.08159298797693146\n",
      "5 mean 0.6807099102493558 and STD 0.09614381233553472\n",
      "6 mean 0.6702078159005903 and STD 0.09881004588221423\n",
      "7 mean 0.6332033699475218 and STD 0.15776782167766093\n",
      "8 mean 0.6339620102070194 and STD 0.17464143798158782\n",
      "9 mean 0.6189491793496691 and STD 0.18593627306154722\n",
      "10 mean 0.6326366873127885 and STD 0.19414716310795876\n"
     ]
    }
   ],
   "source": [
    "best_Ada_Boost = AdaBoostRegressor(n_estimators= 50, loss= 'linear', learning_rate =1, random_state=111)\n",
    "\n",
    "for i in range(2,11):\n",
    "    cross_score = cross_val_score(best_Ada_Boost,X,y,cv = i,n_jobs = -1) \n",
    "    print(i,\"mean\",cross_score.mean() ,\"and STD\" , cross_score.std())"
   ]
  },
  {
   "cell_type": "code",
   "execution_count": 64,
   "id": "bfaeb3c1",
   "metadata": {},
   "outputs": [
    {
     "name": "stdout",
     "output_type": "stream",
     "text": [
      "Score: [0.51750106 0.6563048  0.69478879 0.72429181 0.81066309]\n",
      "Mean Score: 0.6807099102493558\n",
      "Standard Deviation: 0.09614381233553472\n"
     ]
    }
   ],
   "source": [
    "# Cross validate of AdaBoostRegressor using cv=5\n",
    "from sklearn.model_selection import cross_val_score\n",
    "score=cross_val_score(best_Ada_Boost,X,y,cv=5,scoring='r2')\n",
    "print('Score:', score)\n",
    "print('Mean Score:', score.mean())\n",
    "print('Standard Deviation:', score.std())"
   ]
  },
  {
   "cell_type": "markdown",
   "id": "ccc9ba4f",
   "metadata": {},
   "source": [
    "### Plotting y_test vs predictions"
   ]
  },
  {
   "cell_type": "code",
   "execution_count": 65,
   "id": "8eae92cf",
   "metadata": {},
   "outputs": [
    {
     "data": {
      "image/png": "[encoded data removed]",
      "text/plain": [
       "<Figure size 432x432 with 1 Axes>"
      ]
     },
     "metadata": {},
     "output_type": "display_data"
    }
   ],
   "source": [
    "plt.figure(figsize = (6,6))\n",
    "plt.scatter(y_test1, prediction, alpha = 0.5,)\n",
    "plt.xlabel(\"y_test1\")\n",
    "plt.ylabel(\"prediction\")\n",
    "plt.show()"
   ]
  },
  {
   "cell_type": "markdown",
   "id": "1f4a8003",
   "metadata": {},
   "source": [
    "## Saving Model"
   ]
  },
  {
   "cell_type": "code",
   "execution_count": 67,
   "id": "c7d6822a",
   "metadata": {},
   "outputs": [],
   "source": [
    "import pickle\n",
    "# Saving the AdaBoostRegressor\n",
    "best_Ada_Boost.fit(X,y)\n",
    "pred = best_Ada_Boost.predict(X_test1)\n",
    "\n",
    "# Saving model\n",
    "\n",
    "filename = \"Flight_ticket_price_Prediction.pkl\""
   ]
  },
  {
   "cell_type": "markdown",
   "id": "5cd505a7",
   "metadata": {},
   "source": [
    "## Conclusion"
   ]
  },
  {
   "cell_type": "markdown",
   "id": "55e9d4b8",
   "metadata": {},
   "source": [
    "I have scraped the FLight ticket price from Yatra.com for different source and destination cities in India. . All independent variables are categorical in nature and dependent variable i.e price is also object data type. So i changed the data type of price to integer and apply regressoin method for prediction.\n",
    "\n",
    "Once data has been cleaned, Label encoding applied on them to convert them into Numerical one.I have tried best algorithm and it has given top 5 features, i trained model on them but for most of the models, train and test data was having high variance, The model was overfitting.\n",
    "\n",
    "Only AdaBoostregressor worked well out of all the models, as there was less difference between train score and test score and RMSE was also low.I have it as final model and have done further procesing. I got the r2 score as 75% after hyper parameter tuning which is a good score."
   ]
  },
  {
   "cell_type": "code",
   "execution_count": null,
   "id": "072e69d9",
   "metadata": {},
   "outputs": [],
   "source": []
  }
 ],
 "metadata": {
  "kernelspec": {
   "display_name": "Python 3",
   "language": "python",
   "name": "python3"
  },
  "language_info": {
   "codemirror_mode": {
    "name": "ipython",
    "version": 3
   },
   "file_extension": ".py",
   "mimetype": "text/x-python",
   "name": "python",
   "nbconvert_exporter": "python",
   "pygments_lexer": "ipython3",
   "version": "3.8.8"
  }
 },
 "nbformat": 4,
 "nbformat_minor": 5
}
